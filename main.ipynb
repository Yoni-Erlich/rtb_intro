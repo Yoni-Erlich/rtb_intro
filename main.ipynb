{
 "cells": [
  {
   "cell_type": "code",
   "execution_count": 1,
   "metadata": {},
   "outputs": [],
   "source": [
    "%load_ext autoreload\n",
    "%autoreload 2\n",
    "import pandas as pd\n",
    "import analysis_utils\n",
    "import numpy as np\n",
    "import matplotlib.pyplot as plt\n",
    "import seaborn as sns\n",
    "pd.set_option('display.max_columns', None)\n",
    "from sklearn.model_selection import train_test_split\n"
   ]
  },
  {
   "attachments": {},
   "cell_type": "markdown",
   "metadata": {},
   "source": [
    "# 1. Please summarize the main characteristics of the dataset. Feel free to add visualizations as well\n",
    "\n"
   ]
  },
  {
   "attachments": {},
   "cell_type": "markdown",
   "metadata": {},
   "source": [
    "## Check List \n",
    "- data shape \n",
    "- data types\n",
    "- missing values \n",
    "- Anomalies and outliers \n",
    "- unique values \n",
    "- values count, \n",
    "- Distrubutin: historgarm for numerical data, bar chart for categorical data\n",
    "- Correlations \n",
    "- basic stats \n"
   ]
  },
  {
   "cell_type": "code",
   "execution_count": 2,
   "metadata": {},
   "outputs": [],
   "source": [
    "# download the csv file from here:\n",
    "url = 'https://drive.google.com/uc?id=1U7TGQsqGOom_OqFXx7z925taVUEfd28O'"
   ]
  },
  {
   "cell_type": "code",
   "execution_count": 3,
   "metadata": {},
   "outputs": [
    {
     "name": "stderr",
     "output_type": "stream",
     "text": [
      "/var/folders/f8/0lsxmrg55_b9lhrx3v76q9x80000gn/T/ipykernel_63358/1690271930.py:1: DtypeWarning: Columns (6) have mixed types. Specify dtype option on import or set low_memory=False.\n",
      "  raw_data = pd.read_csv('data_assignment.csv')\n"
     ]
    }
   ],
   "source": [
    "raw_data = pd.read_csv('data_assignment.csv')"
   ]
  },
  {
   "attachments": {},
   "cell_type": "markdown",
   "metadata": {},
   "source": [
    "how many unique users we have? "
   ]
  },
  {
   "cell_type": "code",
   "execution_count": 4,
   "metadata": {},
   "outputs": [
    {
     "data": {
      "text/plain": [
       "(249232, 249232)"
      ]
     },
     "execution_count": 4,
     "metadata": {},
     "output_type": "execute_result"
    }
   ],
   "source": [
    "raw_data.user_id.shape[0], raw_data.user_id.unique().shape[0] "
   ]
  },
  {
   "attachments": {},
   "cell_type": "markdown",
   "metadata": {},
   "source": [
    "data shape:"
   ]
  },
  {
   "cell_type": "code",
   "execution_count": 5,
   "metadata": {},
   "outputs": [
    {
     "data": {
      "text/plain": [
       "(249232, 26)"
      ]
     },
     "execution_count": 5,
     "metadata": {},
     "output_type": "execute_result"
    }
   ],
   "source": [
    "raw_data.shape"
   ]
  },
  {
   "cell_type": "code",
   "execution_count": 6,
   "metadata": {},
   "outputs": [
    {
     "name": "stdout",
     "output_type": "stream",
     "text": [
      "<class 'pandas.core.frame.DataFrame'>\n",
      "RangeIndex: 249232 entries, 0 to 249231\n",
      "Data columns (total 26 columns):\n",
      " #   Column                Non-Null Count   Dtype  \n",
      "---  ------                --------------   -----  \n",
      " 0   time                  249232 non-null  object \n",
      " 1   user_id               249232 non-null  object \n",
      " 2   domain                249222 non-null  object \n",
      " 3   url                   249232 non-null  object \n",
      " 4   ad_slot               249232 non-null  object \n",
      " 5   country               249232 non-null  object \n",
      " 6   postal_code           201974 non-null  object \n",
      " 7   state_code            240773 non-null  object \n",
      " 8   city                  236697 non-null  object \n",
      " 9   user_agent            249194 non-null  object \n",
      " 10  cookie_age_seconds    249232 non-null  int64  \n",
      " 11  detected_language     249033 non-null  object \n",
      " 12  device_type           249232 non-null  object \n",
      " 13  device_brand          111686 non-null  object \n",
      " 14  device_model          111687 non-null  object \n",
      " 15  screen_orientation    249232 non-null  object \n",
      " 16  publisher_properties  249164 non-null  object \n",
      " 17  is_wifi               249232 non-null  int64  \n",
      " 18  viewability           249232 non-null  int64  \n",
      " 19  session_depth         249232 non-null  int64  \n",
      " 20  auction_type          249232 non-null  object \n",
      " 21  bidded                249232 non-null  int64  \n",
      " 22  bid                   124152 non-null  float64\n",
      " 23  won_bid               124152 non-null  float64\n",
      " 24  feedback_bid          124150 non-null  float64\n",
      " 25  conversion            124152 non-null  float64\n",
      "dtypes: float64(4), int64(5), object(17)\n",
      "memory usage: 49.4+ MB\n"
     ]
    }
   ],
   "source": [
    "raw_data.info()"
   ]
  },
  {
   "attachments": {},
   "cell_type": "markdown",
   "metadata": {},
   "source": [
    "## data types"
   ]
  },
  {
   "cell_type": "code",
   "execution_count": 7,
   "metadata": {},
   "outputs": [
    {
     "data": {
      "text/plain": [
       "array([dtype('O'), dtype('int64'), dtype('float64')], dtype=object)"
      ]
     },
     "execution_count": 7,
     "metadata": {},
     "output_type": "execute_result"
    }
   ],
   "source": [
    "raw_data.dtypes.unique()"
   ]
  },
  {
   "attachments": {},
   "cell_type": "markdown",
   "metadata": {},
   "source": [
    "- we have int,float, objext and '0' \n",
    "- '0' means we have a format issue with some of the columns ,i.e columns with mixed types"
   ]
  },
  {
   "cell_type": "code",
   "execution_count": 8,
   "metadata": {},
   "outputs": [
    {
     "data": {
      "text/plain": [
       "{'time': 'string',\n",
       " 'user_id': 'string',\n",
       " 'domain': 'string',\n",
       " 'url': 'string',\n",
       " 'ad_slot': 'string',\n",
       " 'country': 'string',\n",
       " 'postal_code': 'mixed',\n",
       " 'state_code': 'string',\n",
       " 'city': 'string',\n",
       " 'user_agent': 'string',\n",
       " 'cookie_age_seconds': 'integer',\n",
       " 'detected_language': 'string',\n",
       " 'device_type': 'string',\n",
       " 'device_brand': 'string',\n",
       " 'device_model': 'string',\n",
       " 'screen_orientation': 'string',\n",
       " 'publisher_properties': 'string',\n",
       " 'is_wifi': 'integer',\n",
       " 'viewability': 'integer',\n",
       " 'session_depth': 'integer',\n",
       " 'auction_type': 'string',\n",
       " 'bidded': 'integer',\n",
       " 'bid': 'floating',\n",
       " 'won_bid': 'floating',\n",
       " 'feedback_bid': 'floating',\n",
       " 'conversion': 'floating'}"
      ]
     },
     "execution_count": 8,
     "metadata": {},
     "output_type": "execute_result"
    }
   ],
   "source": [
    "cols_types = {col :pd.api.types.infer_dtype(raw_data[col]) for col in raw_data.columns}\n",
    "cols_types"
   ]
  },
  {
   "cell_type": "code",
   "execution_count": 9,
   "metadata": {},
   "outputs": [
    {
     "data": {
      "text/plain": [
       "['postal_code']"
      ]
     },
     "execution_count": 9,
     "metadata": {},
     "output_type": "execute_result"
    }
   ],
   "source": [
    "\n",
    "mixed_type_columns = [col for col, type in cols_types.items() if type == 'mixed']\n",
    "mixed_type_columns"
   ]
  },
  {
   "attachments": {},
   "cell_type": "markdown",
   "metadata": {},
   "source": [
    "we have 1 inconsistent column with mixed type.\n",
    "postal_code"
   ]
  },
  {
   "cell_type": "code",
   "execution_count": 10,
   "metadata": {},
   "outputs": [],
   "source": [
    "raw_data['datatype_postal_code'] = (\n",
    "    raw_data['postal_code']\n",
    "    .apply(\n",
    "    lambda x: np.nan if pd.isna(x) else ('numeric' if type(x) == int or type(x) == float else 'str')\n",
    ")\n",
    "                                    )\n"
   ]
  },
  {
   "attachments": {},
   "cell_type": "markdown",
   "metadata": {},
   "source": [
    "how many \"bad\" rows do we have"
   ]
  },
  {
   "cell_type": "code",
   "execution_count": 11,
   "metadata": {},
   "outputs": [
    {
     "data": {
      "text/plain": [
       "(79523, 1)"
      ]
     },
     "execution_count": 11,
     "metadata": {},
     "output_type": "execute_result"
    }
   ],
   "source": [
    "raw_data[raw_data['datatype_postal_code']=='str'][['postal_code']].shape\n"
   ]
  },
  {
   "attachments": {},
   "cell_type": "markdown",
   "metadata": {},
   "source": [
    "if we want to fix this issue we need simply do the following:"
   ]
  },
  {
   "cell_type": "code",
   "execution_count": 12,
   "metadata": {},
   "outputs": [
    {
     "data": {
      "text/plain": [
       "65536      42211\n",
       "65537      85281\n",
       "65539      54963\n",
       "65540      90650\n",
       "65541      77034\n",
       "           ...  \n",
       "163835    435370\n",
       "163836    219210\n",
       "163837     77530\n",
       "163838    279680\n",
       "163839    395810\n",
       "Name: postal_code, Length: 79523, dtype: int64"
      ]
     },
     "execution_count": 12,
     "metadata": {},
     "output_type": "execute_result"
    }
   ],
   "source": [
    "(raw_data[raw_data['datatype_postal_code']=='str']['postal_code']\n",
    " .str.replace(r'[^\\d]+', '', regex=True)\n",
    ".astype(int)\n",
    " )"
   ]
  },
  {
   "attachments": {},
   "cell_type": "markdown",
   "metadata": {},
   "source": [
    "we have ~ 80K rows that as bad format, they need to be converted to numeri."
   ]
  },
  {
   "attachments": {},
   "cell_type": "markdown",
   "metadata": {},
   "source": [
    "## missing values "
   ]
  },
  {
   "attachments": {},
   "cell_type": "markdown",
   "metadata": {},
   "source": [
    "### 'bid','won_bid','conversion', 'feedback_bid'"
   ]
  },
  {
   "cell_type": "code",
   "execution_count": 13,
   "metadata": {},
   "outputs": [
    {
     "data": {
      "text/plain": [
       "time                     0.000000\n",
       "user_id                  0.000000\n",
       "domain                   0.004012\n",
       "url                      0.000000\n",
       "ad_slot                  0.000000\n",
       "country                  0.000000\n",
       "postal_code             18.961450\n",
       "state_code               3.394026\n",
       "city                     5.029450\n",
       "user_agent               0.015247\n",
       "cookie_age_seconds       0.000000\n",
       "detected_language        0.079845\n",
       "device_type              0.000000\n",
       "device_brand            55.187937\n",
       "device_model            55.187536\n",
       "screen_orientation       0.000000\n",
       "publisher_properties     0.027284\n",
       "is_wifi                  0.000000\n",
       "viewability              0.000000\n",
       "session_depth            0.000000\n",
       "auction_type             0.000000\n",
       "bidded                   0.000000\n",
       "bid                     50.186172\n",
       "won_bid                 50.186172\n",
       "feedback_bid            50.186974\n",
       "conversion              50.186172\n",
       "datatype_postal_code    18.961450\n",
       "dtype: float64"
      ]
     },
     "execution_count": 13,
     "metadata": {},
     "output_type": "execute_result"
    }
   ],
   "source": [
    "nans_cols = analysis_utils.percentage_nans(raw_data)\n",
    "nans_cols"
   ]
  },
  {
   "attachments": {},
   "cell_type": "markdown",
   "metadata": {},
   "source": [
    "- we have some cols with missing values.\n",
    "- some have very few 2 - 5 % and some have more than 50%. \n",
    "- lets start to examine the ones with high nans percentage. The nan may indicate another class and not a missing value.\n"
   ]
  },
  {
   "attachments": {},
   "cell_type": "markdown",
   "metadata": {},
   "source": [
    "lets again lool on only the cols with missing values: "
   ]
  },
  {
   "cell_type": "code",
   "execution_count": 14,
   "metadata": {},
   "outputs": [
    {
     "data": {
      "text/html": [
       "<div>\n",
       "<style scoped>\n",
       "    .dataframe tbody tr th:only-of-type {\n",
       "        vertical-align: middle;\n",
       "    }\n",
       "\n",
       "    .dataframe tbody tr th {\n",
       "        vertical-align: top;\n",
       "    }\n",
       "\n",
       "    .dataframe thead th {\n",
       "        text-align: right;\n",
       "    }\n",
       "</style>\n",
       "<table border=\"1\" class=\"dataframe\">\n",
       "  <thead>\n",
       "    <tr style=\"text-align: right;\">\n",
       "      <th></th>\n",
       "      <th>percentage_nans</th>\n",
       "    </tr>\n",
       "  </thead>\n",
       "  <tbody>\n",
       "    <tr>\n",
       "      <th>domain</th>\n",
       "      <td>0.004012</td>\n",
       "    </tr>\n",
       "    <tr>\n",
       "      <th>postal_code</th>\n",
       "      <td>18.961450</td>\n",
       "    </tr>\n",
       "    <tr>\n",
       "      <th>state_code</th>\n",
       "      <td>3.394026</td>\n",
       "    </tr>\n",
       "    <tr>\n",
       "      <th>city</th>\n",
       "      <td>5.029450</td>\n",
       "    </tr>\n",
       "    <tr>\n",
       "      <th>user_agent</th>\n",
       "      <td>0.015247</td>\n",
       "    </tr>\n",
       "    <tr>\n",
       "      <th>detected_language</th>\n",
       "      <td>0.079845</td>\n",
       "    </tr>\n",
       "    <tr>\n",
       "      <th>device_brand</th>\n",
       "      <td>55.187937</td>\n",
       "    </tr>\n",
       "    <tr>\n",
       "      <th>device_model</th>\n",
       "      <td>55.187536</td>\n",
       "    </tr>\n",
       "    <tr>\n",
       "      <th>publisher_properties</th>\n",
       "      <td>0.027284</td>\n",
       "    </tr>\n",
       "    <tr>\n",
       "      <th>bid</th>\n",
       "      <td>50.186172</td>\n",
       "    </tr>\n",
       "    <tr>\n",
       "      <th>won_bid</th>\n",
       "      <td>50.186172</td>\n",
       "    </tr>\n",
       "    <tr>\n",
       "      <th>feedback_bid</th>\n",
       "      <td>50.186974</td>\n",
       "    </tr>\n",
       "    <tr>\n",
       "      <th>conversion</th>\n",
       "      <td>50.186172</td>\n",
       "    </tr>\n",
       "    <tr>\n",
       "      <th>datatype_postal_code</th>\n",
       "      <td>18.961450</td>\n",
       "    </tr>\n",
       "  </tbody>\n",
       "</table>\n",
       "</div>"
      ],
      "text/plain": [
       "                      percentage_nans\n",
       "domain                       0.004012\n",
       "postal_code                 18.961450\n",
       "state_code                   3.394026\n",
       "city                         5.029450\n",
       "user_agent                   0.015247\n",
       "detected_language            0.079845\n",
       "device_brand                55.187937\n",
       "device_model                55.187536\n",
       "publisher_properties         0.027284\n",
       "bid                         50.186172\n",
       "won_bid                     50.186172\n",
       "feedback_bid                50.186974\n",
       "conversion                  50.186172\n",
       "datatype_postal_code        18.961450"
      ]
     },
     "execution_count": 14,
     "metadata": {},
     "output_type": "execute_result"
    }
   ],
   "source": [
    "(pd.DataFrame(nans_cols)\n",
    " .rename(columns={0:'percentage_nans'})\n",
    ".query('percentage_nans > 0')\n",
    " )"
   ]
  },
  {
   "cell_type": "code",
   "execution_count": 15,
   "metadata": {},
   "outputs": [
    {
     "data": {
      "text/plain": [
       "won_bid\n",
       "NaN    0.501862\n",
       "0.0    0.311316\n",
       "1.0    0.186822\n",
       "Name: proportion, dtype: float64"
      ]
     },
     "execution_count": 15,
     "metadata": {},
     "output_type": "execute_result"
    }
   ],
   "source": [
    "raw_data['won_bid'].value_counts(normalize=True, dropna=False)"
   ]
  },
  {
   "attachments": {},
   "cell_type": "markdown",
   "metadata": {},
   "source": [
    "we have serval option for the nan values: \n",
    "1. it is missing data \n",
    "2. this are bids that the company did not took part it \n",
    "<br> so we need to look into it. Maybe other columns can help as indicators \n",
    "\n",
    "<br> bided is an indicator wether the company took part in the bid or not. "
   ]
  },
  {
   "attachments": {},
   "cell_type": "markdown",
   "metadata": {},
   "source": [
    "lets see what are the values of the bid related columns when bidded == 0"
   ]
  },
  {
   "cell_type": "code",
   "execution_count": 16,
   "metadata": {},
   "outputs": [
    {
     "data": {
      "text/html": [
       "<div>\n",
       "<style scoped>\n",
       "    .dataframe tbody tr th:only-of-type {\n",
       "        vertical-align: middle;\n",
       "    }\n",
       "\n",
       "    .dataframe tbody tr th {\n",
       "        vertical-align: top;\n",
       "    }\n",
       "\n",
       "    .dataframe thead th {\n",
       "        text-align: right;\n",
       "    }\n",
       "</style>\n",
       "<table border=\"1\" class=\"dataframe\">\n",
       "  <thead>\n",
       "    <tr style=\"text-align: right;\">\n",
       "      <th></th>\n",
       "      <th>bid</th>\n",
       "      <th>won_bid</th>\n",
       "      <th>conversion</th>\n",
       "      <th>feedback_bid</th>\n",
       "    </tr>\n",
       "  </thead>\n",
       "  <tbody>\n",
       "    <tr>\n",
       "      <th>0</th>\n",
       "      <td>NaN</td>\n",
       "      <td>NaN</td>\n",
       "      <td>NaN</td>\n",
       "      <td>NaN</td>\n",
       "    </tr>\n",
       "    <tr>\n",
       "      <th>4</th>\n",
       "      <td>NaN</td>\n",
       "      <td>NaN</td>\n",
       "      <td>NaN</td>\n",
       "      <td>NaN</td>\n",
       "    </tr>\n",
       "    <tr>\n",
       "      <th>5</th>\n",
       "      <td>NaN</td>\n",
       "      <td>NaN</td>\n",
       "      <td>NaN</td>\n",
       "      <td>NaN</td>\n",
       "    </tr>\n",
       "    <tr>\n",
       "      <th>6</th>\n",
       "      <td>NaN</td>\n",
       "      <td>NaN</td>\n",
       "      <td>NaN</td>\n",
       "      <td>NaN</td>\n",
       "    </tr>\n",
       "    <tr>\n",
       "      <th>9</th>\n",
       "      <td>NaN</td>\n",
       "      <td>NaN</td>\n",
       "      <td>NaN</td>\n",
       "      <td>NaN</td>\n",
       "    </tr>\n",
       "    <tr>\n",
       "      <th>...</th>\n",
       "      <td>...</td>\n",
       "      <td>...</td>\n",
       "      <td>...</td>\n",
       "      <td>...</td>\n",
       "    </tr>\n",
       "    <tr>\n",
       "      <th>249221</th>\n",
       "      <td>NaN</td>\n",
       "      <td>NaN</td>\n",
       "      <td>NaN</td>\n",
       "      <td>NaN</td>\n",
       "    </tr>\n",
       "    <tr>\n",
       "      <th>249222</th>\n",
       "      <td>NaN</td>\n",
       "      <td>NaN</td>\n",
       "      <td>NaN</td>\n",
       "      <td>NaN</td>\n",
       "    </tr>\n",
       "    <tr>\n",
       "      <th>249225</th>\n",
       "      <td>NaN</td>\n",
       "      <td>NaN</td>\n",
       "      <td>NaN</td>\n",
       "      <td>NaN</td>\n",
       "    </tr>\n",
       "    <tr>\n",
       "      <th>249228</th>\n",
       "      <td>NaN</td>\n",
       "      <td>NaN</td>\n",
       "      <td>NaN</td>\n",
       "      <td>NaN</td>\n",
       "    </tr>\n",
       "    <tr>\n",
       "      <th>249229</th>\n",
       "      <td>NaN</td>\n",
       "      <td>NaN</td>\n",
       "      <td>NaN</td>\n",
       "      <td>NaN</td>\n",
       "    </tr>\n",
       "  </tbody>\n",
       "</table>\n",
       "<p>125080 rows × 4 columns</p>\n",
       "</div>"
      ],
      "text/plain": [
       "        bid  won_bid  conversion  feedback_bid\n",
       "0       NaN      NaN         NaN           NaN\n",
       "4       NaN      NaN         NaN           NaN\n",
       "5       NaN      NaN         NaN           NaN\n",
       "6       NaN      NaN         NaN           NaN\n",
       "9       NaN      NaN         NaN           NaN\n",
       "...     ...      ...         ...           ...\n",
       "249221  NaN      NaN         NaN           NaN\n",
       "249222  NaN      NaN         NaN           NaN\n",
       "249225  NaN      NaN         NaN           NaN\n",
       "249228  NaN      NaN         NaN           NaN\n",
       "249229  NaN      NaN         NaN           NaN\n",
       "\n",
       "[125080 rows x 4 columns]"
      ]
     },
     "execution_count": 16,
     "metadata": {},
     "output_type": "execute_result"
    }
   ],
   "source": [
    "# lets look on the other columns: \n",
    "not_bided = raw_data[raw_data['bidded']==0][['bid','won_bid','conversion', 'feedback_bid']]\n",
    "not_bided"
   ]
  },
  {
   "attachments": {},
   "cell_type": "markdown",
   "metadata": {},
   "source": [
    "as i suspected there are nans!"
   ]
  },
  {
   "attachments": {},
   "cell_type": "markdown",
   "metadata": {},
   "source": [
    "lets see if we can fix it? for the case wehre we have non and the company did not bid, we will replace the value -1 - indicating that the company did not bid. "
   ]
  },
  {
   "cell_type": "code",
   "execution_count": 17,
   "metadata": {},
   "outputs": [
    {
     "data": {
      "text/plain": [
       "time                     0.000000\n",
       "user_id                  0.000000\n",
       "domain                   0.004012\n",
       "url                      0.000000\n",
       "ad_slot                  0.000000\n",
       "country                  0.000000\n",
       "postal_code             18.961450\n",
       "state_code               3.394026\n",
       "city                     5.029450\n",
       "user_agent               0.015247\n",
       "cookie_age_seconds       0.000000\n",
       "detected_language        0.079845\n",
       "device_type              0.000000\n",
       "device_brand            55.187937\n",
       "device_model            55.187536\n",
       "screen_orientation       0.000000\n",
       "publisher_properties     0.027284\n",
       "is_wifi                  0.000000\n",
       "viewability              0.000000\n",
       "session_depth            0.000000\n",
       "auction_type             0.000000\n",
       "bidded                   0.000000\n",
       "bid                      0.000000\n",
       "won_bid                  0.000000\n",
       "feedback_bid             0.000802\n",
       "conversion               0.000000\n",
       "datatype_postal_code    18.961450\n",
       "dtype: float64"
      ]
     },
     "execution_count": 17,
     "metadata": {},
     "output_type": "execute_result"
    }
   ],
   "source": [
    "bid_related_columns_to_fill = ['bid', 'won_bid', 'conversion', 'feedback_bid']\n",
    "\n",
    "\n",
    "raw_data_p1 =  (raw_data.pipe(\n",
    "    analysis_utils\n",
    "    .fill_na_based_on_condition,'bidded', bid_related_columns_to_fill )\n",
    "    \n",
    "    \n",
    "    )\n",
    "\n",
    "\n",
    "analysis_utils.percentage_nans(raw_data_p1)"
   ]
  },
  {
   "attachments": {},
   "cell_type": "markdown",
   "metadata": {},
   "source": [
    "We can see above that we manage to reduced the nan's rate sigidictnatly. there remain super low precentage of nans in the feedback bid, which are probably missing data. "
   ]
  },
  {
   "attachments": {},
   "cell_type": "markdown",
   "metadata": {},
   "source": [
    "### postal_code"
   ]
  },
  {
   "attachments": {},
   "cell_type": "markdown",
   "metadata": {},
   "source": [
    "next lets deal with the postal code: \n",
    "<br> first lets deal with the mixed type issue. "
   ]
  },
  {
   "cell_type": "code",
   "execution_count": 18,
   "metadata": {},
   "outputs": [],
   "source": [
    "raw_data_fix_postal_code_type  = (\n",
    "    raw_data\n",
    " .pipe(analysis_utils.fix_inconsistent_col_format,\n",
    "        'postal_code',\n",
    "          'datatype_postal_code',\n",
    "            'numeric',\n",
    "              'str'  )\n",
    " \n",
    " )"
   ]
  },
  {
   "attachments": {},
   "cell_type": "markdown",
   "metadata": {},
   "source": [
    "lets see if we fix the non consistant format issue: \n"
   ]
  },
  {
   "cell_type": "code",
   "execution_count": 19,
   "metadata": {},
   "outputs": [
    {
     "data": {
      "text/plain": [
       "'integer'"
      ]
     },
     "execution_count": 19,
     "metadata": {},
     "output_type": "execute_result"
    }
   ],
   "source": [
    "new_cols_types = analysis_utils.get_cols_type(raw_data_fix_postal_code_type)\n",
    "new_cols_types['postal_code']"
   ]
  },
  {
   "attachments": {},
   "cell_type": "markdown",
   "metadata": {},
   "source": [
    "Yes! i fixed the format issue. \n",
    "<br> now lets continue with the missing value issue. "
   ]
  },
  {
   "attachments": {},
   "cell_type": "markdown",
   "metadata": {},
   "source": [
    "total rows = 249232\n",
    "<br> how much unique postal code we have? ?"
   ]
  },
  {
   "cell_type": "code",
   "execution_count": 20,
   "metadata": {},
   "outputs": [
    {
     "data": {
      "text/plain": [
       "19981"
      ]
     },
     "execution_count": 20,
     "metadata": {},
     "output_type": "execute_result"
    }
   ],
   "source": [
    "(\n",
    "    raw_data_fix_postal_code_type\n",
    "    .postal_code\n",
    "    .unique()\n",
    "    .shape[0]\n",
    ")"
   ]
  },
  {
   "attachments": {},
   "cell_type": "markdown",
   "metadata": {},
   "source": [
    "total special postal code = 19981 "
   ]
  },
  {
   "attachments": {},
   "cell_type": "markdown",
   "metadata": {},
   "source": [
    "lets try to add a col that will help us identify the missing values, or at least the most probable one.\n"
   ]
  },
  {
   "cell_type": "code",
   "execution_count": 21,
   "metadata": {},
   "outputs": [],
   "source": [
    "raw_data_fix_postal_code_type= (\n",
    "    raw_data_fix_postal_code_type\n",
    "    .assign(country_state_city_code = lambda df: df['country']+'_'+df['state_code']+'_'+df['city'])\n",
    "                                \n",
    "                                )"
   ]
  },
  {
   "attachments": {},
   "cell_type": "markdown",
   "metadata": {},
   "source": [
    "how many sepcial country_state_city_code we have? "
   ]
  },
  {
   "cell_type": "code",
   "execution_count": 22,
   "metadata": {},
   "outputs": [
    {
     "data": {
      "text/plain": [
       "11217"
      ]
     },
     "execution_count": 22,
     "metadata": {},
     "output_type": "execute_result"
    }
   ],
   "source": [
    "raw_data_fix_postal_code_type.country_state_city_code.unique().shape[0]"
   ]
  },
  {
   "attachments": {},
   "cell_type": "markdown",
   "metadata": {},
   "source": [
    "<br>ok so postal code we have 19981 unique values. \n",
    "<br> country_state_city_code we have 11217\n",
    "<br>meaning there are few postal code per country_state_city_code. \n",
    "<br> we will do the follwing: we will create a dictionery: \n",
    "<br> country_state_city_code: mode(postal_code)\n"
   ]
  },
  {
   "cell_type": "code",
   "execution_count": 23,
   "metadata": {},
   "outputs": [],
   "source": [
    "mode_dict_postal_code = (\n",
    "    raw_data_fix_postal_code_type\n",
    "    .groupby('country_state_city_code')\n",
    "    ['postal_code']\n",
    "    .agg(lambda x: pd.Series.mode(x)[0] if not pd.Series.mode(x).empty else None)\n",
    "    .dropna()\n",
    "    .to_dict()\n",
    " \n",
    " )\n",
    "\n",
    "raw_data_fix_postal_code_type['postal_code'] =(\n",
    "    raw_data_fix_postal_code_type.apply(\n",
    "    lambda row: mode_dict_postal_code.get(row['country_state_city_code'], pd.NA) if pd.isna(row['postal_code']) else row['postal_code'],\n",
    "    axis=1)\n",
    ")"
   ]
  },
  {
   "cell_type": "code",
   "execution_count": 24,
   "metadata": {},
   "outputs": [
    {
     "data": {
      "text/plain": [
       "3.5388714129806766"
      ]
     },
     "execution_count": 24,
     "metadata": {},
     "output_type": "execute_result"
    }
   ],
   "source": [
    "analysis_utils.percentage_nans(raw_data_fix_postal_code_type)['postal_code']"
   ]
  },
  {
   "attachments": {},
   "cell_type": "markdown",
   "metadata": {},
   "source": [
    "with this method we manage to reduce the nans rate: 18 ->3.5, see results below "
   ]
  },
  {
   "cell_type": "code",
   "execution_count": 25,
   "metadata": {},
   "outputs": [
    {
     "data": {
      "text/plain": [
       "time                        0.000000\n",
       "user_id                     0.000000\n",
       "domain                      0.004012\n",
       "url                         0.000000\n",
       "ad_slot                     0.000000\n",
       "country                     0.000000\n",
       "postal_code                 3.538871\n",
       "state_code                  3.394026\n",
       "city                        5.029450\n",
       "user_agent                  0.015247\n",
       "cookie_age_seconds          0.000000\n",
       "detected_language           0.079845\n",
       "device_type                 0.000000\n",
       "device_brand               55.187937\n",
       "device_model               55.187536\n",
       "screen_orientation          0.000000\n",
       "publisher_properties        0.027284\n",
       "is_wifi                     0.000000\n",
       "viewability                 0.000000\n",
       "session_depth               0.000000\n",
       "auction_type                0.000000\n",
       "bidded                      0.000000\n",
       "bid                         0.000000\n",
       "won_bid                     0.000000\n",
       "feedback_bid                0.000802\n",
       "conversion                  0.000000\n",
       "datatype_postal_code       18.961450\n",
       "country_state_city_code     5.029450\n",
       "dtype: float64"
      ]
     },
     "execution_count": 25,
     "metadata": {},
     "output_type": "execute_result"
    }
   ],
   "source": [
    "analysis_utils.percentage_nans(raw_data_fix_postal_code_type)"
   ]
  },
  {
   "attachments": {},
   "cell_type": "markdown",
   "metadata": {},
   "source": [
    "### device_model and device_brand"
   ]
  },
  {
   "cell_type": "code",
   "execution_count": 26,
   "metadata": {},
   "outputs": [
    {
     "data": {
      "text/html": [
       "<div>\n",
       "<style scoped>\n",
       "    .dataframe tbody tr th:only-of-type {\n",
       "        vertical-align: middle;\n",
       "    }\n",
       "\n",
       "    .dataframe tbody tr th {\n",
       "        vertical-align: top;\n",
       "    }\n",
       "\n",
       "    .dataframe thead th {\n",
       "        text-align: right;\n",
       "    }\n",
       "</style>\n",
       "<table border=\"1\" class=\"dataframe\">\n",
       "  <thead>\n",
       "    <tr style=\"text-align: right;\">\n",
       "      <th></th>\n",
       "      <th>device_type</th>\n",
       "      <th>device_brand</th>\n",
       "      <th>device_model</th>\n",
       "      <th>screen_orientation</th>\n",
       "    </tr>\n",
       "  </thead>\n",
       "  <tbody>\n",
       "    <tr>\n",
       "      <th>0</th>\n",
       "      <td>PERSONAL_COMPUTER</td>\n",
       "      <td>NaN</td>\n",
       "      <td>NaN</td>\n",
       "      <td>UNKNOWN_ORIENTATION</td>\n",
       "    </tr>\n",
       "    <tr>\n",
       "      <th>1</th>\n",
       "      <td>PERSONAL_COMPUTER</td>\n",
       "      <td>NaN</td>\n",
       "      <td>NaN</td>\n",
       "      <td>UNKNOWN_ORIENTATION</td>\n",
       "    </tr>\n",
       "    <tr>\n",
       "      <th>2</th>\n",
       "      <td>HIGHEND_PHONE</td>\n",
       "      <td>motorola</td>\n",
       "      <td>xt1710-02</td>\n",
       "      <td>UNKNOWN_ORIENTATION</td>\n",
       "    </tr>\n",
       "    <tr>\n",
       "      <th>3</th>\n",
       "      <td>HIGHEND_PHONE</td>\n",
       "      <td>samsung</td>\n",
       "      <td>sm-s727v</td>\n",
       "      <td>UNKNOWN_ORIENTATION</td>\n",
       "    </tr>\n",
       "    <tr>\n",
       "      <th>4</th>\n",
       "      <td>PERSONAL_COMPUTER</td>\n",
       "      <td>NaN</td>\n",
       "      <td>NaN</td>\n",
       "      <td>UNKNOWN_ORIENTATION</td>\n",
       "    </tr>\n",
       "    <tr>\n",
       "      <th>...</th>\n",
       "      <td>...</td>\n",
       "      <td>...</td>\n",
       "      <td>...</td>\n",
       "      <td>...</td>\n",
       "    </tr>\n",
       "    <tr>\n",
       "      <th>249227</th>\n",
       "      <td>PERSONAL_COMPUTER</td>\n",
       "      <td>NaN</td>\n",
       "      <td>NaN</td>\n",
       "      <td>UNKNOWN_ORIENTATION</td>\n",
       "    </tr>\n",
       "    <tr>\n",
       "      <th>249228</th>\n",
       "      <td>PERSONAL_COMPUTER</td>\n",
       "      <td>NaN</td>\n",
       "      <td>NaN</td>\n",
       "      <td>UNKNOWN_ORIENTATION</td>\n",
       "    </tr>\n",
       "    <tr>\n",
       "      <th>249229</th>\n",
       "      <td>PERSONAL_COMPUTER</td>\n",
       "      <td>NaN</td>\n",
       "      <td>NaN</td>\n",
       "      <td>UNKNOWN_ORIENTATION</td>\n",
       "    </tr>\n",
       "    <tr>\n",
       "      <th>249230</th>\n",
       "      <td>HIGHEND_PHONE</td>\n",
       "      <td>apple</td>\n",
       "      <td>iphone</td>\n",
       "      <td>UNKNOWN_ORIENTATION</td>\n",
       "    </tr>\n",
       "    <tr>\n",
       "      <th>249231</th>\n",
       "      <td>PERSONAL_COMPUTER</td>\n",
       "      <td>NaN</td>\n",
       "      <td>NaN</td>\n",
       "      <td>UNKNOWN_ORIENTATION</td>\n",
       "    </tr>\n",
       "  </tbody>\n",
       "</table>\n",
       "<p>249232 rows × 4 columns</p>\n",
       "</div>"
      ],
      "text/plain": [
       "              device_type device_brand device_model   screen_orientation\n",
       "0       PERSONAL_COMPUTER          NaN          NaN  UNKNOWN_ORIENTATION\n",
       "1       PERSONAL_COMPUTER          NaN          NaN  UNKNOWN_ORIENTATION\n",
       "2           HIGHEND_PHONE     motorola    xt1710-02  UNKNOWN_ORIENTATION\n",
       "3           HIGHEND_PHONE      samsung     sm-s727v  UNKNOWN_ORIENTATION\n",
       "4       PERSONAL_COMPUTER          NaN          NaN  UNKNOWN_ORIENTATION\n",
       "...                   ...          ...          ...                  ...\n",
       "249227  PERSONAL_COMPUTER          NaN          NaN  UNKNOWN_ORIENTATION\n",
       "249228  PERSONAL_COMPUTER          NaN          NaN  UNKNOWN_ORIENTATION\n",
       "249229  PERSONAL_COMPUTER          NaN          NaN  UNKNOWN_ORIENTATION\n",
       "249230      HIGHEND_PHONE        apple       iphone  UNKNOWN_ORIENTATION\n",
       "249231  PERSONAL_COMPUTER          NaN          NaN  UNKNOWN_ORIENTATION\n",
       "\n",
       "[249232 rows x 4 columns]"
      ]
     },
     "execution_count": 26,
     "metadata": {},
     "output_type": "execute_result"
    }
   ],
   "source": [
    "(\n",
    "    raw_data\n",
    "    [['device_type', 'device_brand', 'device_model', 'screen_orientation']]\n",
    " \n",
    " \n",
    " )"
   ]
  },
  {
   "attachments": {},
   "cell_type": "markdown",
   "metadata": {},
   "source": [
    "we can see that some of the nan in the 'device_brand' and in 'device_model' are due to the fact that the user used a personal computer \n",
    "lets add a category for this: generic_. We will fill the nan's for the 'device_brand' and in 'device_model' according to the 'device_type', add prefix 'generic_'"
   ]
  },
  {
   "cell_type": "code",
   "execution_count": 27,
   "metadata": {},
   "outputs": [
    {
     "data": {
      "text/plain": [
       "array(['PERSONAL_COMPUTER', 'HIGHEND_PHONE', 'TABLET', 'GAME_CONSOLE'],\n",
       "      dtype=object)"
      ]
     },
     "execution_count": 27,
     "metadata": {},
     "output_type": "execute_result"
    }
   ],
   "source": [
    "raw_data.device_type.unique()"
   ]
  },
  {
   "cell_type": "code",
   "execution_count": 28,
   "metadata": {},
   "outputs": [
    {
     "data": {
      "text/plain": [
       "array([nan, 'xt1710-02', 'sm-s727v', ..., 'sm-a505gn', 'x572', 'blade l5'],\n",
       "      dtype=object)"
      ]
     },
     "execution_count": 28,
     "metadata": {},
     "output_type": "execute_result"
    }
   ],
   "source": [
    "raw_data.device_model.unique()"
   ]
  },
  {
   "cell_type": "code",
   "execution_count": 29,
   "metadata": {},
   "outputs": [
    {
     "data": {
      "text/plain": [
       "array([nan, 'motorola', 'samsung', 'apple', 'alcatel', 'lg', 'google',\n",
       "       'amazon', 'at&t', 't-mobile', 'oneplus', 'sonim', 'blu', 'android',\n",
       "       'huawei', 'lenovo', 'onn', 'realme', 'nokia', 'xiaomi', 'umidigi',\n",
       "       'zte', 'kyocera', 'unimax', 'hot pepper', 'coolpad', 'htc',\n",
       "       'doogee', 'axia', 'cricket', 'microsoft', 'asus', 'rca', 'vankyo',\n",
       "       'sky devices', 'wiko', 'ellipsis', 'ulefone', 'hp', 'foxxd',\n",
       "       'nextbook', 'rokit', 'acer', 'hyundai', 'blackberry', 'vivo',\n",
       "       'orbic', 'tecno', 'quanta', 'umx', 'barnes and noble', 'infinix',\n",
       "       'dragon touch', 'sony', 'beista', 'trio', 'razer', 'nvidia', 'ans',\n",
       "       'nuu', 'red', 'digiland', 'verizon', 'zopo', 'quantum',\n",
       "       'blackview', 'essential', 'oppo', 'oukitel', 'dell', 'palm', 'cat',\n",
       "       'leeco', 'sharp', 'tcl', 'azpen', 'winnovo', 'cubot', 'casper'],\n",
       "      dtype=object)"
      ]
     },
     "execution_count": 29,
     "metadata": {},
     "output_type": "execute_result"
    }
   ],
   "source": [
    "\n",
    "raw_data.device_brand.unique()"
   ]
  },
  {
   "cell_type": "code",
   "execution_count": 30,
   "metadata": {},
   "outputs": [
    {
     "data": {
      "text/plain": [
       "time                     0.000000\n",
       "user_id                  0.000000\n",
       "domain                   0.004012\n",
       "url                      0.000000\n",
       "ad_slot                  0.000000\n",
       "country                  0.000000\n",
       "postal_code             18.961450\n",
       "state_code               3.394026\n",
       "city                     5.029450\n",
       "user_agent               0.015247\n",
       "cookie_age_seconds       0.000000\n",
       "detected_language        0.079845\n",
       "device_type              0.000000\n",
       "device_brand             0.000000\n",
       "device_model            55.187536\n",
       "screen_orientation       0.000000\n",
       "publisher_properties     0.027284\n",
       "is_wifi                  0.000000\n",
       "viewability              0.000000\n",
       "session_depth            0.000000\n",
       "auction_type             0.000000\n",
       "bidded                   0.000000\n",
       "bid                      0.000000\n",
       "won_bid                  0.000000\n",
       "feedback_bid             0.000802\n",
       "conversion               0.000000\n",
       "datatype_postal_code    18.961450\n",
       "dtype: float64"
      ]
     },
     "execution_count": 30,
     "metadata": {},
     "output_type": "execute_result"
    }
   ],
   "source": [
    "raw_data_fix_nan_device = (raw_data\n",
    " .pipe(analysis_utils.fill_na_based_on_other_column, 'device_brand', 'device_type', 'generic_')\n",
    " .pipe(analysis_utils.fill_na_based_on_other_column, 'device_brand', 'device_type', 'generic_')\n",
    " )\n",
    "\n",
    "analysis_utils.percentage_nans(raw_data_fix_nan_device)"
   ]
  },
  {
   "attachments": {},
   "cell_type": "markdown",
   "metadata": {},
   "source": [
    "it seems we manage to solve the main nan isseus, due to the short time i will not continue the anlysis with the remaing nans, since they are very small."
   ]
  },
  {
   "attachments": {},
   "cell_type": "markdown",
   "metadata": {},
   "source": [
    "### summary the missing values part: \n",
    "Here is how to process the data to remove most of the NaNs. I did not apply the filling of -1 for the bid-related columns for convenience"
   ]
  },
  {
   "cell_type": "code",
   "execution_count": 31,
   "metadata": {},
   "outputs": [
    {
     "name": "stderr",
     "output_type": "stream",
     "text": [
      "/var/folders/f8/0lsxmrg55_b9lhrx3v76q9x80000gn/T/ipykernel_63358/3037256812.py:1: DtypeWarning: Columns (6) have mixed types. Specify dtype option on import or set low_memory=False.\n",
      "  raw_data = pd.read_csv('data_assignment.csv')\n"
     ]
    }
   ],
   "source": [
    "raw_data = pd.read_csv('data_assignment.csv')\n",
    "# Define columns that need NaN handling for bid-related data\n",
    "bid_related_columns_to_fill = ['bid', 'won_bid', 'conversion', 'feedback_bid']\n",
    "\n",
    "# Processing the DataFrame\n",
    "raw_data = (\n",
    "    raw_data\n",
    "    # .pipe(\n",
    "    #     analysis_utils.fill_na_based_on_condition,\n",
    "    #     'bidded', \n",
    "    #     bid_related_columns_to_fill\n",
    "    # )\n",
    "    .assign(\n",
    "        datatype_postal_code=lambda df: df['postal_code'].apply(\n",
    "            lambda x: np.nan if pd.isna(x) else \n",
    "            ('numeric' if type(x) == int or type(x) == float else 'str')\n",
    "        )\n",
    "    )\n",
    "    .pipe(\n",
    "        analysis_utils.fix_inconsistent_col_format,\n",
    "        'postal_code',\n",
    "        'datatype_postal_code',\n",
    "        'numeric',\n",
    "        'str'\n",
    "    )\n",
    "    .assign(\n",
    "        country_state_city_code=lambda df: \n",
    "        df['country'] + '_' + df['state_code'] + '_' + df['city']\n",
    "    )\n",
    "    .pipe(\n",
    "        analysis_utils.fillna_with_group_mode_to_dict,\n",
    "        'country_state_city_code', \n",
    "        'postal_code'\n",
    "    )\n",
    "    .pipe(analysis_utils.fill_na_based_on_other_column, 'device_brand', 'device_type', 'generic_')\n",
    "    .pipe(analysis_utils.fill_na_based_on_other_column, 'device_model', 'device_type', 'generic_')\n",
    ")\n"
   ]
  },
  {
   "cell_type": "code",
   "execution_count": 32,
   "metadata": {},
   "outputs": [
    {
     "data": {
      "text/plain": [
       "time                        0.000000\n",
       "user_id                     0.000000\n",
       "domain                      0.004012\n",
       "url                         0.000000\n",
       "ad_slot                     0.000000\n",
       "country                     0.000000\n",
       "postal_code                 3.538871\n",
       "state_code                  3.394026\n",
       "city                        5.029450\n",
       "user_agent                  0.015247\n",
       "cookie_age_seconds          0.000000\n",
       "detected_language           0.079845\n",
       "device_type                 0.000000\n",
       "device_brand                0.000000\n",
       "device_model                0.000000\n",
       "screen_orientation          0.000000\n",
       "publisher_properties        0.027284\n",
       "is_wifi                     0.000000\n",
       "viewability                 0.000000\n",
       "session_depth               0.000000\n",
       "auction_type                0.000000\n",
       "bidded                      0.000000\n",
       "bid                        50.186172\n",
       "won_bid                    50.186172\n",
       "feedback_bid               50.186974\n",
       "conversion                 50.186172\n",
       "datatype_postal_code       18.961450\n",
       "country_state_city_code     5.029450\n",
       "dtype: float64"
      ]
     },
     "execution_count": 32,
     "metadata": {},
     "output_type": "execute_result"
    }
   ],
   "source": [
    "analysis_utils.percentage_nans(raw_data)"
   ]
  },
  {
   "cell_type": "code",
   "execution_count": null,
   "metadata": {},
   "outputs": [],
   "source": []
  },
  {
   "attachments": {},
   "cell_type": "markdown",
   "metadata": {},
   "source": [
    "## Summary statistics"
   ]
  },
  {
   "attachments": {},
   "cell_type": "markdown",
   "metadata": {},
   "source": [
    "Also, I would want to analyze the numeric and object columns separately.\n"
   ]
  },
  {
   "cell_type": "code",
   "execution_count": 33,
   "metadata": {},
   "outputs": [
    {
     "data": {
      "text/plain": [
       "(9, 19)"
      ]
     },
     "execution_count": 33,
     "metadata": {},
     "output_type": "execute_result"
    }
   ],
   "source": [
    "numeric_cols = raw_data.select_dtypes(include=['number']).columns\n",
    "object_cols = raw_data.select_dtypes(include=['object']).columns\n",
    "len(numeric_cols), len(object_cols)"
   ]
  },
  {
   "cell_type": "code",
   "execution_count": 34,
   "metadata": {},
   "outputs": [
    {
     "name": "stdout",
     "output_type": "stream",
     "text": [
      "Summary statistics for numeric columns:\n"
     ]
    },
    {
     "data": {
      "text/html": [
       "<div>\n",
       "<style scoped>\n",
       "    .dataframe tbody tr th:only-of-type {\n",
       "        vertical-align: middle;\n",
       "    }\n",
       "\n",
       "    .dataframe tbody tr th {\n",
       "        vertical-align: top;\n",
       "    }\n",
       "\n",
       "    .dataframe thead th {\n",
       "        text-align: right;\n",
       "    }\n",
       "</style>\n",
       "<table border=\"1\" class=\"dataframe\">\n",
       "  <thead>\n",
       "    <tr style=\"text-align: right;\">\n",
       "      <th></th>\n",
       "      <th>cookie_age_seconds</th>\n",
       "      <th>is_wifi</th>\n",
       "      <th>viewability</th>\n",
       "      <th>session_depth</th>\n",
       "      <th>bidded</th>\n",
       "      <th>bid</th>\n",
       "      <th>won_bid</th>\n",
       "      <th>feedback_bid</th>\n",
       "      <th>conversion</th>\n",
       "    </tr>\n",
       "  </thead>\n",
       "  <tbody>\n",
       "    <tr>\n",
       "      <th>count</th>\n",
       "      <td>2.492320e+05</td>\n",
       "      <td>249232.000000</td>\n",
       "      <td>249232.000000</td>\n",
       "      <td>249232.000000</td>\n",
       "      <td>249232.000000</td>\n",
       "      <td>124152.000000</td>\n",
       "      <td>124152.000000</td>\n",
       "      <td>124150.000000</td>\n",
       "      <td>124152.000000</td>\n",
       "    </tr>\n",
       "    <tr>\n",
       "      <th>mean</th>\n",
       "      <td>8.914815e+06</td>\n",
       "      <td>0.926615</td>\n",
       "      <td>56.853787</td>\n",
       "      <td>11.164782</td>\n",
       "      <td>0.498138</td>\n",
       "      <td>4.133353</td>\n",
       "      <td>0.375040</td>\n",
       "      <td>4.837522</td>\n",
       "      <td>0.035183</td>\n",
       "    </tr>\n",
       "    <tr>\n",
       "      <th>std</th>\n",
       "      <td>1.439282e+07</td>\n",
       "      <td>0.260769</td>\n",
       "      <td>32.712160</td>\n",
       "      <td>40.078729</td>\n",
       "      <td>0.499998</td>\n",
       "      <td>20.868548</td>\n",
       "      <td>0.484135</td>\n",
       "      <td>26.679007</td>\n",
       "      <td>0.184242</td>\n",
       "    </tr>\n",
       "    <tr>\n",
       "      <th>min</th>\n",
       "      <td>0.000000e+00</td>\n",
       "      <td>0.000000</td>\n",
       "      <td>-1.000000</td>\n",
       "      <td>-1.000000</td>\n",
       "      <td>0.000000</td>\n",
       "      <td>0.060000</td>\n",
       "      <td>0.000000</td>\n",
       "      <td>0.010000</td>\n",
       "      <td>0.000000</td>\n",
       "    </tr>\n",
       "    <tr>\n",
       "      <th>25%</th>\n",
       "      <td>0.000000e+00</td>\n",
       "      <td>1.000000</td>\n",
       "      <td>32.000000</td>\n",
       "      <td>-1.000000</td>\n",
       "      <td>0.000000</td>\n",
       "      <td>0.301924</td>\n",
       "      <td>0.000000</td>\n",
       "      <td>0.500000</td>\n",
       "      <td>0.000000</td>\n",
       "    </tr>\n",
       "    <tr>\n",
       "      <th>50%</th>\n",
       "      <td>2.592000e+05</td>\n",
       "      <td>1.000000</td>\n",
       "      <td>67.000000</td>\n",
       "      <td>-1.000000</td>\n",
       "      <td>0.000000</td>\n",
       "      <td>0.740403</td>\n",
       "      <td>0.000000</td>\n",
       "      <td>1.410000</td>\n",
       "      <td>0.000000</td>\n",
       "    </tr>\n",
       "    <tr>\n",
       "      <th>75%</th>\n",
       "      <td>1.296000e+07</td>\n",
       "      <td>1.000000</td>\n",
       "      <td>84.000000</td>\n",
       "      <td>2.000000</td>\n",
       "      <td>1.000000</td>\n",
       "      <td>1.830171</td>\n",
       "      <td>1.000000</td>\n",
       "      <td>3.290000</td>\n",
       "      <td>0.000000</td>\n",
       "    </tr>\n",
       "    <tr>\n",
       "      <th>max</th>\n",
       "      <td>6.220800e+07</td>\n",
       "      <td>1.000000</td>\n",
       "      <td>100.000000</td>\n",
       "      <td>303.000000</td>\n",
       "      <td>1.000000</td>\n",
       "      <td>700.000000</td>\n",
       "      <td>1.000000</td>\n",
       "      <td>1243.750000</td>\n",
       "      <td>1.000000</td>\n",
       "    </tr>\n",
       "  </tbody>\n",
       "</table>\n",
       "</div>"
      ],
      "text/plain": [
       "       cookie_age_seconds        is_wifi    viewability  session_depth  \\\n",
       "count        2.492320e+05  249232.000000  249232.000000  249232.000000   \n",
       "mean         8.914815e+06       0.926615      56.853787      11.164782   \n",
       "std          1.439282e+07       0.260769      32.712160      40.078729   \n",
       "min          0.000000e+00       0.000000      -1.000000      -1.000000   \n",
       "25%          0.000000e+00       1.000000      32.000000      -1.000000   \n",
       "50%          2.592000e+05       1.000000      67.000000      -1.000000   \n",
       "75%          1.296000e+07       1.000000      84.000000       2.000000   \n",
       "max          6.220800e+07       1.000000     100.000000     303.000000   \n",
       "\n",
       "              bidded            bid        won_bid   feedback_bid  \\\n",
       "count  249232.000000  124152.000000  124152.000000  124150.000000   \n",
       "mean        0.498138       4.133353       0.375040       4.837522   \n",
       "std         0.499998      20.868548       0.484135      26.679007   \n",
       "min         0.000000       0.060000       0.000000       0.010000   \n",
       "25%         0.000000       0.301924       0.000000       0.500000   \n",
       "50%         0.000000       0.740403       0.000000       1.410000   \n",
       "75%         1.000000       1.830171       1.000000       3.290000   \n",
       "max         1.000000     700.000000       1.000000    1243.750000   \n",
       "\n",
       "          conversion  \n",
       "count  124152.000000  \n",
       "mean        0.035183  \n",
       "std         0.184242  \n",
       "min         0.000000  \n",
       "25%         0.000000  \n",
       "50%         0.000000  \n",
       "75%         0.000000  \n",
       "max         1.000000  "
      ]
     },
     "metadata": {},
     "output_type": "display_data"
    }
   ],
   "source": [
    "print(\"Summary statistics for numeric columns:\")\n",
    "display(raw_data[numeric_cols].describe())\n",
    "\n"
   ]
  },
  {
   "attachments": {},
   "cell_type": "markdown",
   "metadata": {},
   "source": [
    "lets see if anytning change if the bidded =1 "
   ]
  },
  {
   "cell_type": "code",
   "execution_count": 35,
   "metadata": {},
   "outputs": [
    {
     "data": {
      "text/html": [
       "<div>\n",
       "<style scoped>\n",
       "    .dataframe tbody tr th:only-of-type {\n",
       "        vertical-align: middle;\n",
       "    }\n",
       "\n",
       "    .dataframe tbody tr th {\n",
       "        vertical-align: top;\n",
       "    }\n",
       "\n",
       "    .dataframe thead th {\n",
       "        text-align: right;\n",
       "    }\n",
       "</style>\n",
       "<table border=\"1\" class=\"dataframe\">\n",
       "  <thead>\n",
       "    <tr style=\"text-align: right;\">\n",
       "      <th></th>\n",
       "      <th>cookie_age_seconds</th>\n",
       "      <th>is_wifi</th>\n",
       "      <th>viewability</th>\n",
       "      <th>session_depth</th>\n",
       "      <th>bidded</th>\n",
       "      <th>bid</th>\n",
       "      <th>won_bid</th>\n",
       "      <th>feedback_bid</th>\n",
       "      <th>conversion</th>\n",
       "    </tr>\n",
       "  </thead>\n",
       "  <tbody>\n",
       "    <tr>\n",
       "      <th>count</th>\n",
       "      <td>1.241520e+05</td>\n",
       "      <td>124152.000000</td>\n",
       "      <td>124152.000000</td>\n",
       "      <td>124152.000000</td>\n",
       "      <td>124152.0</td>\n",
       "      <td>124152.000000</td>\n",
       "      <td>124152.000000</td>\n",
       "      <td>124150.000000</td>\n",
       "      <td>124152.000000</td>\n",
       "    </tr>\n",
       "    <tr>\n",
       "      <th>mean</th>\n",
       "      <td>8.928913e+06</td>\n",
       "      <td>0.913155</td>\n",
       "      <td>58.268067</td>\n",
       "      <td>7.788066</td>\n",
       "      <td>1.0</td>\n",
       "      <td>4.133353</td>\n",
       "      <td>0.375040</td>\n",
       "      <td>4.837522</td>\n",
       "      <td>0.035183</td>\n",
       "    </tr>\n",
       "    <tr>\n",
       "      <th>std</th>\n",
       "      <td>1.428138e+07</td>\n",
       "      <td>0.281609</td>\n",
       "      <td>32.048034</td>\n",
       "      <td>31.030120</td>\n",
       "      <td>0.0</td>\n",
       "      <td>20.868548</td>\n",
       "      <td>0.484135</td>\n",
       "      <td>26.679007</td>\n",
       "      <td>0.184242</td>\n",
       "    </tr>\n",
       "    <tr>\n",
       "      <th>min</th>\n",
       "      <td>0.000000e+00</td>\n",
       "      <td>0.000000</td>\n",
       "      <td>-1.000000</td>\n",
       "      <td>-1.000000</td>\n",
       "      <td>1.0</td>\n",
       "      <td>0.060000</td>\n",
       "      <td>0.000000</td>\n",
       "      <td>0.010000</td>\n",
       "      <td>0.000000</td>\n",
       "    </tr>\n",
       "    <tr>\n",
       "      <th>25%</th>\n",
       "      <td>0.000000e+00</td>\n",
       "      <td>1.000000</td>\n",
       "      <td>36.000000</td>\n",
       "      <td>-1.000000</td>\n",
       "      <td>1.0</td>\n",
       "      <td>0.301924</td>\n",
       "      <td>0.000000</td>\n",
       "      <td>0.500000</td>\n",
       "      <td>0.000000</td>\n",
       "    </tr>\n",
       "    <tr>\n",
       "      <th>50%</th>\n",
       "      <td>3.456000e+05</td>\n",
       "      <td>1.000000</td>\n",
       "      <td>68.000000</td>\n",
       "      <td>-1.000000</td>\n",
       "      <td>1.0</td>\n",
       "      <td>0.740403</td>\n",
       "      <td>0.000000</td>\n",
       "      <td>1.410000</td>\n",
       "      <td>0.000000</td>\n",
       "    </tr>\n",
       "    <tr>\n",
       "      <th>75%</th>\n",
       "      <td>1.296000e+07</td>\n",
       "      <td>1.000000</td>\n",
       "      <td>84.000000</td>\n",
       "      <td>1.000000</td>\n",
       "      <td>1.0</td>\n",
       "      <td>1.830171</td>\n",
       "      <td>1.000000</td>\n",
       "      <td>3.290000</td>\n",
       "      <td>0.000000</td>\n",
       "    </tr>\n",
       "    <tr>\n",
       "      <th>max</th>\n",
       "      <td>6.220800e+07</td>\n",
       "      <td>1.000000</td>\n",
       "      <td>100.000000</td>\n",
       "      <td>300.000000</td>\n",
       "      <td>1.0</td>\n",
       "      <td>700.000000</td>\n",
       "      <td>1.000000</td>\n",
       "      <td>1243.750000</td>\n",
       "      <td>1.000000</td>\n",
       "    </tr>\n",
       "  </tbody>\n",
       "</table>\n",
       "</div>"
      ],
      "text/plain": [
       "       cookie_age_seconds        is_wifi    viewability  session_depth  \\\n",
       "count        1.241520e+05  124152.000000  124152.000000  124152.000000   \n",
       "mean         8.928913e+06       0.913155      58.268067       7.788066   \n",
       "std          1.428138e+07       0.281609      32.048034      31.030120   \n",
       "min          0.000000e+00       0.000000      -1.000000      -1.000000   \n",
       "25%          0.000000e+00       1.000000      36.000000      -1.000000   \n",
       "50%          3.456000e+05       1.000000      68.000000      -1.000000   \n",
       "75%          1.296000e+07       1.000000      84.000000       1.000000   \n",
       "max          6.220800e+07       1.000000     100.000000     300.000000   \n",
       "\n",
       "         bidded            bid        won_bid   feedback_bid     conversion  \n",
       "count  124152.0  124152.000000  124152.000000  124150.000000  124152.000000  \n",
       "mean        1.0       4.133353       0.375040       4.837522       0.035183  \n",
       "std         0.0      20.868548       0.484135      26.679007       0.184242  \n",
       "min         1.0       0.060000       0.000000       0.010000       0.000000  \n",
       "25%         1.0       0.301924       0.000000       0.500000       0.000000  \n",
       "50%         1.0       0.740403       0.000000       1.410000       0.000000  \n",
       "75%         1.0       1.830171       1.000000       3.290000       0.000000  \n",
       "max         1.0     700.000000       1.000000    1243.750000       1.000000  "
      ]
     },
     "execution_count": 35,
     "metadata": {},
     "output_type": "execute_result"
    }
   ],
   "source": [
    "raw_data[numeric_cols].query('bidded == 1').describe()"
   ]
  },
  {
   "cell_type": "code",
   "execution_count": 36,
   "metadata": {},
   "outputs": [
    {
     "data": {
      "text/plain": [
       "session_depth\n",
       "-1    0.570325\n",
       " 1    0.186167\n",
       " 2    0.031486\n",
       " 3    0.012509\n",
       " 9    0.011711\n",
       "Name: proportion, dtype: float64"
      ]
     },
     "execution_count": 36,
     "metadata": {},
     "output_type": "execute_result"
    }
   ],
   "source": [
    "raw_data.query('bidded==1')['session_depth'].value_counts(normalize=True).head(5)"
   ]
  },
  {
   "cell_type": "code",
   "execution_count": 37,
   "metadata": {},
   "outputs": [
    {
     "data": {
      "text/plain": [
       "(0.5703250853792126, 0.5806758361687103)"
      ]
     },
     "execution_count": 37,
     "metadata": {},
     "output_type": "execute_result"
    }
   ],
   "source": [
    "raw_data.query('bidded==1')['session_depth'].value_counts(normalize=True).iloc[0], raw_data['session_depth'].value_counts(normalize=True).iloc[0]"
   ]
  },
  {
   "attachments": {},
   "cell_type": "markdown",
   "metadata": {},
   "source": [
    "for sessino depth we see that most of the values equal -1 (the most probable value), i.e was not indetified. \n",
    "yet we need to look on biided =1 and won bids ! "
   ]
  },
  {
   "cell_type": "code",
   "execution_count": 38,
   "metadata": {},
   "outputs": [
    {
     "data": {
      "text/plain": [
       "session_depth\n",
       "-1      0.621365\n",
       " 1      0.185087\n",
       " 2      0.024419\n",
       " 300    0.011146\n",
       " 3      0.009879\n",
       "Name: proportion, dtype: float64"
      ]
     },
     "execution_count": 38,
     "metadata": {},
     "output_type": "execute_result"
    }
   ],
   "source": [
    "raw_data.query('bidded==1 and won_bid ==1')['session_depth'].value_counts(normalize=True).head(5)"
   ]
  },
  {
   "attachments": {},
   "cell_type": "markdown",
   "metadata": {},
   "source": [
    "we can see that the values is still quite high "
   ]
  },
  {
   "attachments": {},
   "cell_type": "markdown",
   "metadata": {},
   "source": [
    "lets look at the object columns: \n",
    "- how many unique values do we have in each column? "
   ]
  },
  {
   "cell_type": "code",
   "execution_count": 39,
   "metadata": {},
   "outputs": [
    {
     "data": {
      "text/plain": [
       "{'time': 248738,\n",
       " 'user_id': 249232,\n",
       " 'domain': 8636,\n",
       " 'url': 44208,\n",
       " 'ad_slot': 35255,\n",
       " 'country': 1,\n",
       " 'postal_code': 19981,\n",
       " 'state_code': 52,\n",
       " 'city': 7995,\n",
       " 'user_agent': 20658,\n",
       " 'detected_language': 41,\n",
       " 'device_type': 4,\n",
       " 'device_brand': 81,\n",
       " 'device_model': 1237,\n",
       " 'screen_orientation': 1,\n",
       " 'publisher_properties': 6803,\n",
       " 'auction_type': 2,\n",
       " 'datatype_postal_code': 3,\n",
       " 'country_state_city_code': 11217}"
      ]
     },
     "execution_count": 39,
     "metadata": {},
     "output_type": "execute_result"
    }
   ],
   "source": [
    "{col : raw_data[col].unique().shape[0] for col in object_cols}"
   ]
  },
  {
   "cell_type": "code",
   "execution_count": 40,
   "metadata": {},
   "outputs": [
    {
     "data": {
      "text/plain": [
       "('2021-02-01 23:59:59.927888 UTC', '2021-02-01 00:00:00.122461 UTC')"
      ]
     },
     "execution_count": 40,
     "metadata": {},
     "output_type": "execute_result"
    }
   ],
   "source": [
    "raw_data.time.max(),raw_data.time.min()"
   ]
  },
  {
   "attachments": {},
   "cell_type": "markdown",
   "metadata": {},
   "source": [
    "- all the data is from the US\n",
    "- only 1 screen orientation\n",
    "- 41 languge \n",
    "- time: data from 1 day\n",
    "- what is the dominent device type?, device model ? language? city "
   ]
  },
  {
   "cell_type": "code",
   "execution_count": 41,
   "metadata": {},
   "outputs": [
    {
     "data": {
      "image/png": "[encoded data removed]",
      "text/plain": [
       "<Figure size 800x3600 with 9 Axes>"
      ]
     },
     "metadata": {},
     "output_type": "display_data"
    }
   ],
   "source": [
    "sns.set(style=\"whitegrid\")\n",
    "\n",
    "fig, axes = plt.subplots(nrows=len(numeric_cols), ncols=1, figsize=(8, 4 * len(numeric_cols)))\n",
    "\n",
    "for ax, col in zip(axes.flat, numeric_cols):\n",
    "    sns.violinplot(x=raw_data[col], ax=ax,  inner='point')\n",
    "\n",
    "    ax.set_title(f'Violin Plot of {col}', fontsize=14)  # Set title for each plot\n",
    "    ax.set_ylabel('Density')  # Label for y-axis\n",
    "    ax.set_xlabel(col)  # Label for x-axis\n",
    "\n",
    "    # Add a line for the mean\n",
    "    mean_val = raw_data[col].mean()\n",
    "    ax.axvline(mean_val, color='r', linestyle='--', linewidth=1.5, label=f'Mean: {mean_val:.2f}')\n",
    "    ax.legend()\n",
    "\n",
    "# Adjust layout\n",
    "plt.tight_layout()\n",
    "plt.show()"
   ]
  },
  {
   "cell_type": "code",
   "execution_count": 42,
   "metadata": {},
   "outputs": [
    {
     "data": {
      "text/plain": [
       "0              NaN\n",
       "1         1.649047\n",
       "2         1.005495\n",
       "3         5.852967\n",
       "4              NaN\n",
       "            ...   \n",
       "249227    5.163571\n",
       "249228         NaN\n",
       "249229         NaN\n",
       "249230    0.095408\n",
       "249231    1.978379\n",
       "Name: bid, Length: 249232, dtype: float64"
      ]
     },
     "execution_count": 42,
     "metadata": {},
     "output_type": "execute_result"
    }
   ],
   "source": [
    "raw_data['bid']"
   ]
  },
  {
   "attachments": {},
   "cell_type": "markdown",
   "metadata": {},
   "source": [
    "## Outliers : \n",
    "- by viewing the violin plots, i can see that there are some outliers in the data with the follwoing columns: \n",
    "    -session depth \n",
    "    - bid \n",
    "    - feedback bid\n",
    "yet regardng the session depth, this may be due to the fact that for high number of the data we dont know the session depth. \n",
    "- lets look on this colum without the -1: \n"
   ]
  },
  {
   "cell_type": "code",
   "execution_count": 43,
   "metadata": {},
   "outputs": [
    {
     "data": {
      "image/png": "[encoded data removed]",
      "text/plain": [
       "<Figure size 800x600 with 1 Axes>"
      ]
     },
     "metadata": {},
     "output_type": "display_data"
    }
   ],
   "source": [
    "raw_data_ = raw_data.query('session_depth!= -1')\n",
    "sns.set(style=\"whitegrid\")\n",
    "plt.figure(figsize=(8, 6))\n",
    "ax = sns.violinplot(x=raw_data_['session_depth'], color=\"lightblue\", inner=\"quartile\")  \n",
    "ax.set_title('Violin Plot of session_depth', fontsize=16)  \n",
    "ax.set_xlabel('session_depth', fontsize=12)\n",
    "mean = raw_data_['session_depth'].mean()\n",
    "plt.axvline(mean, color='r', linestyle='--', label=f'Mean: {mean:.2f}')\n",
    "plt.legend()  \n",
    "plt.show()"
   ]
  },
  {
   "attachments": {},
   "cell_type": "markdown",
   "metadata": {},
   "source": [
    "we still have outliers in the data. "
   ]
  },
  {
   "attachments": {},
   "cell_type": "markdown",
   "metadata": {},
   "source": [
    "below we can look on the counts for the object columns we wanted to look at"
   ]
  },
  {
   "cell_type": "code",
   "execution_count": 44,
   "metadata": {},
   "outputs": [
    {
     "name": "stdout",
     "output_type": "stream",
     "text": [
      "\n",
      "Frequency counts for object columns:\n",
      "\n",
      "Frequency of city:\n"
     ]
    },
    {
     "data": {
      "text/plain": [
       "city\n",
       "Houston        0.010900\n",
       "Atlanta        0.009197\n",
       "Chicago        0.008669\n",
       "Phoenix        0.007072\n",
       "Los Angeles    0.006916\n",
       "                 ...   \n",
       "Vansant        0.000004\n",
       "Gibbsboro      0.000004\n",
       "Roberta        0.000004\n",
       "Cross City     0.000004\n",
       "Harwinton      0.000004\n",
       "Name: proportion, Length: 7994, dtype: float64"
      ]
     },
     "metadata": {},
     "output_type": "display_data"
    },
    {
     "name": "stdout",
     "output_type": "stream",
     "text": [
      "\n",
      "Frequency of auction_type:\n"
     ]
    },
    {
     "data": {
      "text/plain": [
       "auction_type\n",
       "FIRST_PRICE     0.911861\n",
       "SECOND_PRICE    0.088139\n",
       "Name: proportion, dtype: float64"
      ]
     },
     "metadata": {},
     "output_type": "display_data"
    },
    {
     "name": "stdout",
     "output_type": "stream",
     "text": [
      "\n",
      "Frequency of device_model:\n"
     ]
    },
    {
     "data": {
      "text/plain": [
       "device_model\n",
       "generic_PERSONAL_COMPUTER    0.551474\n",
       "iphone                       0.188627\n",
       "ipad                         0.017097\n",
       "sm-g960u                     0.010777\n",
       "sm-g973u                     0.008129\n",
       "                               ...   \n",
       "z3001s                       0.000004\n",
       "u673c                        0.000004\n",
       "3622a                        0.000004\n",
       "sm-a600fn                    0.000004\n",
       "blade l5                     0.000004\n",
       "Name: proportion, Length: 1237, dtype: float64"
      ]
     },
     "metadata": {},
     "output_type": "display_data"
    },
    {
     "name": "stdout",
     "output_type": "stream",
     "text": [
      "\n",
      "Frequency of device_type:\n"
     ]
    },
    {
     "data": {
      "text/plain": [
       "device_type\n",
       "PERSONAL_COMPUTER    0.551474\n",
       "HIGHEND_PHONE        0.419942\n",
       "TABLET               0.028564\n",
       "GAME_CONSOLE         0.000020\n",
       "Name: proportion, dtype: float64"
      ]
     },
     "metadata": {},
     "output_type": "display_data"
    },
    {
     "name": "stdout",
     "output_type": "stream",
     "text": [
      "\n",
      "Frequency of detected_language:\n"
     ]
    },
    {
     "data": {
      "text/plain": [
       "detected_language\n",
       "en       0.989178\n",
       "es       0.006248\n",
       "zh_CN    0.000787\n",
       "ru       0.000771\n",
       "ko       0.000377\n",
       "ja       0.000333\n",
       "id       0.000285\n",
       "zh_TW    0.000277\n",
       "pt       0.000229\n",
       "de       0.000201\n",
       "fr       0.000181\n",
       "it       0.000100\n",
       "te       0.000096\n",
       "iw       0.000092\n",
       "vi       0.000088\n",
       "tr       0.000076\n",
       "ar       0.000072\n",
       "ml       0.000068\n",
       "hr       0.000064\n",
       "ta       0.000060\n",
       "bn       0.000048\n",
       "pl       0.000048\n",
       "hi       0.000048\n",
       "sr       0.000028\n",
       "el       0.000028\n",
       "mr       0.000024\n",
       "tl       0.000024\n",
       "no       0.000024\n",
       "th       0.000020\n",
       "nl       0.000020\n",
       "da       0.000020\n",
       "sv       0.000016\n",
       "la       0.000016\n",
       "ca       0.000012\n",
       "ur       0.000008\n",
       "gu       0.000008\n",
       "bg       0.000008\n",
       "sk       0.000004\n",
       "ms       0.000004\n",
       "fi       0.000004\n",
       "Name: proportion, dtype: float64"
      ]
     },
     "metadata": {},
     "output_type": "display_data"
    }
   ],
   "source": [
    "print(\"\\nFrequency counts for object columns:\")\n",
    "for col in ['city','auction_type', 'device_model', 'device_type', 'detected_language']:\n",
    "    print(f\"\\nFrequency of {col}:\")\n",
    "    display(raw_data[col].value_counts(normalize=True))"
   ]
  },
  {
   "cell_type": "code",
   "execution_count": 45,
   "metadata": {},
   "outputs": [
    {
     "data": {
      "text/plain": [
       "0.09381040333319016"
      ]
     },
     "execution_count": 45,
     "metadata": {},
     "output_type": "execute_result"
    }
   ],
   "source": [
    "(\n",
    "    raw_data\n",
    "    .query('bidded==1 and won_bid==1')\n",
    "    .conversion\n",
    "    .mean()\n",
    "\n",
    " \n",
    " \n",
    " )"
   ]
  },
  {
   "attachments": {},
   "cell_type": "markdown",
   "metadata": {},
   "source": [
    "### Summary for part 1"
   ]
  },
  {
   "attachments": {},
   "cell_type": "markdown",
   "metadata": {},
   "source": [
    "We have a dataset comprising 9 numeric columns and 19 object columns. A preliminary examination of the numeric data suggests potential outliers or unusually high values, which could be attributed to errors or rare high bids. Interestingly, 92% of our data transmissions occur via WiFi. A significant observation from the session depth analysis reveals that for 62% of the entries for when we wom the bid, there's no data on the total number of impressions, \n",
    "\n",
    "Each row in our dataset represents a unique user. Initial review indicated a high number of NaNs, for which I've managed to account and suggest potential resolutions. A column with mixed types has been appropriately handled. On the conversion front, there is only a 9% conversion rate, for when we won the bid. Indicating that we are dealing with an imbalanced data issue. The dataset is entirely from the US, from a specific day,  with 6,803 unique publishers and 8,636 unique domains represented, and no single city dominates users wise. The predominant auction type observed is First Price, most users access via personal computers, and 98% of the users prefer English. "
   ]
  },
  {
   "attachments": {},
   "cell_type": "markdown",
   "metadata": {},
   "source": [
    "# Let’s say we’re interested in predicting the click-through rate. What are the most promising features for this task at hand?"
   ]
  },
  {
   "attachments": {},
   "cell_type": "markdown",
   "metadata": {},
   "source": [
    "what is the relevant data to look at? \n",
    "i think is when we won the bid and that the user got an impression."
   ]
  },
  {
   "cell_type": "code",
   "execution_count": 46,
   "metadata": {},
   "outputs": [
    {
     "data": {
      "text/plain": [
       "0.0361590806958978"
      ]
     },
     "execution_count": 46,
     "metadata": {},
     "output_type": "execute_result"
    }
   ],
   "source": [
    "(raw_data\n",
    " .query('won_bid==1')\n",
    " .query('session_depth>1')\n",
    " .shape[0]\n",
    " \n",
    " \n",
    " )/raw_data.shape[0]"
   ]
  },
  {
   "attachments": {},
   "cell_type": "markdown",
   "metadata": {},
   "source": [
    "we are left with 3 % of the data"
   ]
  },
  {
   "attachments": {},
   "cell_type": "markdown",
   "metadata": {},
   "source": [
    "now les look for features!"
   ]
  },
  {
   "attachments": {},
   "cell_type": "markdown",
   "metadata": {},
   "source": [
    "first candidate is time."
   ]
  },
  {
   "cell_type": "code",
   "execution_count": 47,
   "metadata": {},
   "outputs": [],
   "source": [
    "# filter data for the analysis\n",
    "raw_data_filtered = (raw_data\n",
    " .query('won_bid==1')\n",
    " .query('session_depth>1')\n",
    "\n",
    ")"
   ]
  },
  {
   "attachments": {},
   "cell_type": "markdown",
   "metadata": {},
   "source": [
    "lets see if the hour of the day can help us to predict."
   ]
  },
  {
   "cell_type": "code",
   "execution_count": 48,
   "metadata": {},
   "outputs": [],
   "source": [
    "raw_data_filtered['time'] = pd.to_datetime(raw_data_filtered['time'])\n",
    "\n",
    "raw_data_filtered['hour'] = raw_data_filtered['time'].dt.hour\n"
   ]
  },
  {
   "cell_type": "code",
   "execution_count": 49,
   "metadata": {},
   "outputs": [
    {
     "data": {
      "text/plain": [
       "<Axes: xlabel='hour', ylabel='conversion'>"
      ]
     },
     "execution_count": 49,
     "metadata": {},
     "output_type": "execute_result"
    },
    {
     "data": {
      "image/png": "[encoded data removed]",
      "text/plain": [
       "<Figure size 640x480 with 1 Axes>"
      ]
     },
     "metadata": {},
     "output_type": "display_data"
    }
   ],
   "source": [
    "\n",
    "sns.lineplot(data=raw_data_filtered, x='hour', y='conversion', )\n"
   ]
  },
  {
   "attachments": {},
   "cell_type": "markdown",
   "metadata": {},
   "source": [
    "From the graph, it's evident that the conversion rate varies significantly throughout the day. Notably, there is a dip in conversion rates around noon, with peaks occurring in the morning and evening."
   ]
  },
  {
   "cell_type": "code",
   "execution_count": 50,
   "metadata": {},
   "outputs": [
    {
     "data": {
      "text/plain": [
       "cookie_age_seconds    0.011436\n",
       "is_wifi              -0.071510\n",
       "viewability           0.131860\n",
       "session_depth        -0.121853\n",
       "bidded                     NaN\n",
       "bid                   0.066659\n",
       "won_bid                    NaN\n",
       "feedback_bid          0.090490\n",
       "conversion            1.000000\n",
       "Name: conversion, dtype: float64"
      ]
     },
     "execution_count": 50,
     "metadata": {},
     "output_type": "execute_result"
    }
   ],
   "source": [
    "raw_data_filtered[numeric_cols].corr()['conversion']"
   ]
  },
  {
   "attachments": {},
   "cell_type": "markdown",
   "metadata": {},
   "source": [
    "yet the correlation is very small, yet the relation may be non- linear"
   ]
  },
  {
   "cell_type": "code",
   "execution_count": 51,
   "metadata": {},
   "outputs": [
    {
     "data": {
      "text/plain": [
       "9012"
      ]
     },
     "execution_count": 51,
     "metadata": {},
     "output_type": "execute_result"
    }
   ],
   "source": [
    "total_num_users  =raw_data_filtered.user_id.nunique()\n",
    "total_num_users"
   ]
  },
  {
   "attachments": {},
   "cell_type": "markdown",
   "metadata": {},
   "source": [
    "Next feature - Domain: "
   ]
  },
  {
   "cell_type": "code",
   "execution_count": 52,
   "metadata": {},
   "outputs": [
    {
     "data": {
      "text/html": [
       "<div>\n",
       "<style scoped>\n",
       "    .dataframe tbody tr th:only-of-type {\n",
       "        vertical-align: middle;\n",
       "    }\n",
       "\n",
       "    .dataframe tbody tr th {\n",
       "        vertical-align: top;\n",
       "    }\n",
       "\n",
       "    .dataframe thead th {\n",
       "        text-align: right;\n",
       "    }\n",
       "</style>\n",
       "<table border=\"1\" class=\"dataframe\">\n",
       "  <thead>\n",
       "    <tr style=\"text-align: right;\">\n",
       "      <th></th>\n",
       "      <th>click_rate_by_domain</th>\n",
       "      <th>total_users</th>\n",
       "    </tr>\n",
       "    <tr>\n",
       "      <th>domain</th>\n",
       "      <th></th>\n",
       "      <th></th>\n",
       "    </tr>\n",
       "  </thead>\n",
       "  <tbody>\n",
       "    <tr>\n",
       "      <th>00822cfe9a3d3d4ebd3d3e7742937069</th>\n",
       "      <td>0.000000</td>\n",
       "      <td>4</td>\n",
       "    </tr>\n",
       "    <tr>\n",
       "      <th>00b966f16fcd7544ea8a8b7fc230b1b1</th>\n",
       "      <td>0.000000</td>\n",
       "      <td>1</td>\n",
       "    </tr>\n",
       "    <tr>\n",
       "      <th>00fba4432ddb68a7327498a478dbc0cf</th>\n",
       "      <td>0.166667</td>\n",
       "      <td>6</td>\n",
       "    </tr>\n",
       "    <tr>\n",
       "      <th>01dc0512b007f71baf5d868ec0e809ee</th>\n",
       "      <td>0.500000</td>\n",
       "      <td>2</td>\n",
       "    </tr>\n",
       "    <tr>\n",
       "      <th>0295eadadb165141f0bf7b45c63c7e5c</th>\n",
       "      <td>0.000000</td>\n",
       "      <td>1</td>\n",
       "    </tr>\n",
       "    <tr>\n",
       "      <th>...</th>\n",
       "      <td>...</td>\n",
       "      <td>...</td>\n",
       "    </tr>\n",
       "    <tr>\n",
       "      <th>fbed08751c52ea3c78ff9571301cbcd3</th>\n",
       "      <td>0.000000</td>\n",
       "      <td>1</td>\n",
       "    </tr>\n",
       "    <tr>\n",
       "      <th>fcd494925e576c493d173613afd0dcd0</th>\n",
       "      <td>0.000000</td>\n",
       "      <td>1</td>\n",
       "    </tr>\n",
       "    <tr>\n",
       "      <th>fd9b4fb778af7583470f8965ac412099</th>\n",
       "      <td>0.000000</td>\n",
       "      <td>1</td>\n",
       "    </tr>\n",
       "    <tr>\n",
       "      <th>fdf24130fd9ef33337d14e352bea5336</th>\n",
       "      <td>0.500000</td>\n",
       "      <td>2</td>\n",
       "    </tr>\n",
       "    <tr>\n",
       "      <th>ffae786a088c876ab1c8faeba817b2b5</th>\n",
       "      <td>0.000000</td>\n",
       "      <td>1</td>\n",
       "    </tr>\n",
       "  </tbody>\n",
       "</table>\n",
       "<p>565 rows × 2 columns</p>\n",
       "</div>"
      ],
      "text/plain": [
       "                                  click_rate_by_domain  total_users\n",
       "domain                                                             \n",
       "00822cfe9a3d3d4ebd3d3e7742937069              0.000000            4\n",
       "00b966f16fcd7544ea8a8b7fc230b1b1              0.000000            1\n",
       "00fba4432ddb68a7327498a478dbc0cf              0.166667            6\n",
       "01dc0512b007f71baf5d868ec0e809ee              0.500000            2\n",
       "0295eadadb165141f0bf7b45c63c7e5c              0.000000            1\n",
       "...                                                ...          ...\n",
       "fbed08751c52ea3c78ff9571301cbcd3              0.000000            1\n",
       "fcd494925e576c493d173613afd0dcd0              0.000000            1\n",
       "fd9b4fb778af7583470f8965ac412099              0.000000            1\n",
       "fdf24130fd9ef33337d14e352bea5336              0.500000            2\n",
       "ffae786a088c876ab1c8faeba817b2b5              0.000000            1\n",
       "\n",
       "[565 rows x 2 columns]"
      ]
     },
     "execution_count": 52,
     "metadata": {},
     "output_type": "execute_result"
    }
   ],
   "source": [
    "click_by_domain = (\n",
    "    raw_data_filtered\n",
    "    .groupby('domain')\n",
    "    .agg(\n",
    "    click_rate_by_domain = ('conversion','mean'),\n",
    "    total_users = ('user_id', 'count')\n",
    "    \n",
    "    )\n",
    "    \n",
    "    \n",
    "    )\n",
    "\n",
    "click_by_domain\n"
   ]
  },
  {
   "attachments": {},
   "cell_type": "markdown",
   "metadata": {},
   "source": [
    "how many users are using domains with conversion higher than 10%?"
   ]
  },
  {
   "cell_type": "code",
   "execution_count": 53,
   "metadata": {},
   "outputs": [
    {
     "data": {
      "text/plain": [
       "total_users    0.374945\n",
       "dtype: float64"
      ]
     },
     "execution_count": 53,
     "metadata": {},
     "output_type": "execute_result"
    }
   ],
   "source": [
    "click_by_domain.query('click_rate_by_domain>0.1')[['total_users']].sum()/total_num_users"
   ]
  },
  {
   "attachments": {},
   "cell_type": "markdown",
   "metadata": {},
   "source": [
    "We observe that certain domains have a significant user base and a high conversion rate, with 37% of users accessing domains where the conversion exceeds 10%. Consequently, this could be a valuable feature for modeling. To incorporate this feature into a model, we will need to utilize a hashing encoder."
   ]
  },
  {
   "attachments": {},
   "cell_type": "markdown",
   "metadata": {},
   "source": [
    "Next lets eximne device type:"
   ]
  },
  {
   "cell_type": "code",
   "execution_count": 54,
   "metadata": {},
   "outputs": [
    {
     "data": {
      "text/plain": [
       "array(['PERSONAL_COMPUTER', 'HIGHEND_PHONE', 'TABLET'], dtype=object)"
      ]
     },
     "execution_count": 54,
     "metadata": {},
     "output_type": "execute_result"
    }
   ],
   "source": [
    "raw_data_filtered[object_cols]['device_type'].unique()"
   ]
  },
  {
   "cell_type": "code",
   "execution_count": 55,
   "metadata": {},
   "outputs": [
    {
     "data": {
      "text/html": [
       "<div>\n",
       "<style scoped>\n",
       "    .dataframe tbody tr th:only-of-type {\n",
       "        vertical-align: middle;\n",
       "    }\n",
       "\n",
       "    .dataframe tbody tr th {\n",
       "        vertical-align: top;\n",
       "    }\n",
       "\n",
       "    .dataframe thead th {\n",
       "        text-align: right;\n",
       "    }\n",
       "</style>\n",
       "<table border=\"1\" class=\"dataframe\">\n",
       "  <thead>\n",
       "    <tr style=\"text-align: right;\">\n",
       "      <th></th>\n",
       "      <th>click_rate_by_device_type</th>\n",
       "      <th>total_users</th>\n",
       "    </tr>\n",
       "    <tr>\n",
       "      <th>device_type</th>\n",
       "      <th></th>\n",
       "      <th></th>\n",
       "    </tr>\n",
       "  </thead>\n",
       "  <tbody>\n",
       "    <tr>\n",
       "      <th>HIGHEND_PHONE</th>\n",
       "      <td>0.141735</td>\n",
       "      <td>2547</td>\n",
       "    </tr>\n",
       "    <tr>\n",
       "      <th>PERSONAL_COMPUTER</th>\n",
       "      <td>0.052173</td>\n",
       "      <td>6306</td>\n",
       "    </tr>\n",
       "    <tr>\n",
       "      <th>TABLET</th>\n",
       "      <td>0.094340</td>\n",
       "      <td>159</td>\n",
       "    </tr>\n",
       "  </tbody>\n",
       "</table>\n",
       "</div>"
      ],
      "text/plain": [
       "                   click_rate_by_device_type  total_users\n",
       "device_type                                              \n",
       "HIGHEND_PHONE                       0.141735         2547\n",
       "PERSONAL_COMPUTER                   0.052173         6306\n",
       "TABLET                              0.094340          159"
      ]
     },
     "execution_count": 55,
     "metadata": {},
     "output_type": "execute_result"
    }
   ],
   "source": [
    "(\n",
    "    raw_data_filtered\n",
    "    .groupby('device_type')\n",
    "    .agg(\n",
    "    click_rate_by_device_type = ('conversion','mean'),\n",
    "    total_users = ('user_id', 'count')\n",
    "    )\n",
    " \n",
    " )"
   ]
  },
  {
   "attachments": {},
   "cell_type": "markdown",
   "metadata": {},
   "source": [
    "The analysis indicates that users on high-end phones are significantly more likely to click on an ad than those using personal computers or tablets. Specifically, the likelihood of clicking an ad is five times greater for users with high-end phones compared to PC users. To confirm the statistical robustness of this finding, we also examined the total number of users for each device type. This consideration helps ensure that the feature is well-represented across the dataset, preventing any skewed conclusions that might result from a high conversion rate derived from a small sample size. Therefore, incorporating device type into the model, especially distinguishing between high-end phones and PCs, appears to be a promising predictor of ad click-through rates."
   ]
  },
  {
   "attachments": {},
   "cell_type": "markdown",
   "metadata": {},
   "source": [
    "Next lets try some geographical features:\n",
    " - city "
   ]
  },
  {
   "cell_type": "code",
   "execution_count": 56,
   "metadata": {},
   "outputs": [
    {
     "data": {
      "text/plain": [
       "(2532,)"
      ]
     },
     "execution_count": 56,
     "metadata": {},
     "output_type": "execute_result"
    }
   ],
   "source": [
    "raw_data_filtered.city.unique().shape"
   ]
  },
  {
   "cell_type": "code",
   "execution_count": 57,
   "metadata": {},
   "outputs": [],
   "source": [
    "df_click_rate_by_city=(\n",
    "    raw_data_filtered\n",
    "    .groupby('city')\n",
    "    .agg(\n",
    "    click_rate_by_city = ('conversion','mean'),\n",
    "    total_users = ('user_id', 'count')\n",
    "    )\n",
    " \n",
    " )\n"
   ]
  },
  {
   "cell_type": "code",
   "execution_count": 58,
   "metadata": {},
   "outputs": [
    {
     "data": {
      "text/html": [
       "<div>\n",
       "<style scoped>\n",
       "    .dataframe tbody tr th:only-of-type {\n",
       "        vertical-align: middle;\n",
       "    }\n",
       "\n",
       "    .dataframe tbody tr th {\n",
       "        vertical-align: top;\n",
       "    }\n",
       "\n",
       "    .dataframe thead th {\n",
       "        text-align: right;\n",
       "    }\n",
       "</style>\n",
       "<table border=\"1\" class=\"dataframe\">\n",
       "  <thead>\n",
       "    <tr style=\"text-align: right;\">\n",
       "      <th></th>\n",
       "      <th>click_rate_by_city</th>\n",
       "      <th>total_users</th>\n",
       "    </tr>\n",
       "  </thead>\n",
       "  <tbody>\n",
       "    <tr>\n",
       "      <th>count</th>\n",
       "      <td>2531.000000</td>\n",
       "      <td>2531.000000</td>\n",
       "    </tr>\n",
       "    <tr>\n",
       "      <th>mean</th>\n",
       "      <td>0.090777</td>\n",
       "      <td>3.322797</td>\n",
       "    </tr>\n",
       "    <tr>\n",
       "      <th>std</th>\n",
       "      <td>0.244099</td>\n",
       "      <td>6.343503</td>\n",
       "    </tr>\n",
       "    <tr>\n",
       "      <th>min</th>\n",
       "      <td>0.000000</td>\n",
       "      <td>1.000000</td>\n",
       "    </tr>\n",
       "    <tr>\n",
       "      <th>25%</th>\n",
       "      <td>0.000000</td>\n",
       "      <td>1.000000</td>\n",
       "    </tr>\n",
       "    <tr>\n",
       "      <th>50%</th>\n",
       "      <td>0.000000</td>\n",
       "      <td>1.000000</td>\n",
       "    </tr>\n",
       "    <tr>\n",
       "      <th>75%</th>\n",
       "      <td>0.000000</td>\n",
       "      <td>3.000000</td>\n",
       "    </tr>\n",
       "    <tr>\n",
       "      <th>max</th>\n",
       "      <td>1.000000</td>\n",
       "      <td>89.000000</td>\n",
       "    </tr>\n",
       "  </tbody>\n",
       "</table>\n",
       "</div>"
      ],
      "text/plain": [
       "       click_rate_by_city  total_users\n",
       "count         2531.000000  2531.000000\n",
       "mean             0.090777     3.322797\n",
       "std              0.244099     6.343503\n",
       "min              0.000000     1.000000\n",
       "25%              0.000000     1.000000\n",
       "50%              0.000000     1.000000\n",
       "75%              0.000000     3.000000\n",
       "max              1.000000    89.000000"
      ]
     },
     "execution_count": 58,
     "metadata": {},
     "output_type": "execute_result"
    }
   ],
   "source": [
    "df_click_rate_by_city.describe()"
   ]
  },
  {
   "cell_type": "code",
   "execution_count": 59,
   "metadata": {},
   "outputs": [
    {
     "data": {
      "text/html": [
       "<div>\n",
       "<style scoped>\n",
       "    .dataframe tbody tr th:only-of-type {\n",
       "        vertical-align: middle;\n",
       "    }\n",
       "\n",
       "    .dataframe tbody tr th {\n",
       "        vertical-align: top;\n",
       "    }\n",
       "\n",
       "    .dataframe thead th {\n",
       "        text-align: right;\n",
       "    }\n",
       "</style>\n",
       "<table border=\"1\" class=\"dataframe\">\n",
       "  <thead>\n",
       "    <tr style=\"text-align: right;\">\n",
       "      <th></th>\n",
       "      <th>click_rate_by_city</th>\n",
       "      <th>total_users</th>\n",
       "    </tr>\n",
       "    <tr>\n",
       "      <th>city</th>\n",
       "      <th></th>\n",
       "      <th></th>\n",
       "    </tr>\n",
       "  </thead>\n",
       "  <tbody>\n",
       "    <tr>\n",
       "      <th>Albany</th>\n",
       "      <td>0.107143</td>\n",
       "      <td>28</td>\n",
       "    </tr>\n",
       "    <tr>\n",
       "      <th>Alexandria</th>\n",
       "      <td>0.071429</td>\n",
       "      <td>14</td>\n",
       "    </tr>\n",
       "    <tr>\n",
       "      <th>Anaheim</th>\n",
       "      <td>0.071429</td>\n",
       "      <td>14</td>\n",
       "    </tr>\n",
       "    <tr>\n",
       "      <th>Arlington</th>\n",
       "      <td>0.079365</td>\n",
       "      <td>63</td>\n",
       "    </tr>\n",
       "    <tr>\n",
       "      <th>Atlanta</th>\n",
       "      <td>0.069444</td>\n",
       "      <td>72</td>\n",
       "    </tr>\n",
       "    <tr>\n",
       "      <th>...</th>\n",
       "      <td>...</td>\n",
       "      <td>...</td>\n",
       "    </tr>\n",
       "    <tr>\n",
       "      <th>Tucson</th>\n",
       "      <td>0.062500</td>\n",
       "      <td>32</td>\n",
       "    </tr>\n",
       "    <tr>\n",
       "      <th>Warren</th>\n",
       "      <td>0.181818</td>\n",
       "      <td>11</td>\n",
       "    </tr>\n",
       "    <tr>\n",
       "      <th>Washington</th>\n",
       "      <td>0.088235</td>\n",
       "      <td>34</td>\n",
       "    </tr>\n",
       "    <tr>\n",
       "      <th>Wilmington</th>\n",
       "      <td>0.083333</td>\n",
       "      <td>12</td>\n",
       "    </tr>\n",
       "    <tr>\n",
       "      <th>Woodstock</th>\n",
       "      <td>0.058824</td>\n",
       "      <td>17</td>\n",
       "    </tr>\n",
       "  </tbody>\n",
       "</table>\n",
       "<p>95 rows × 2 columns</p>\n",
       "</div>"
      ],
      "text/plain": [
       "            click_rate_by_city  total_users\n",
       "city                                       \n",
       "Albany                0.107143           28\n",
       "Alexandria            0.071429           14\n",
       "Anaheim               0.071429           14\n",
       "Arlington             0.079365           63\n",
       "Atlanta               0.069444           72\n",
       "...                        ...          ...\n",
       "Tucson                0.062500           32\n",
       "Warren                0.181818           11\n",
       "Washington            0.088235           34\n",
       "Wilmington            0.083333           12\n",
       "Woodstock             0.058824           17\n",
       "\n",
       "[95 rows x 2 columns]"
      ]
     },
     "execution_count": 59,
     "metadata": {},
     "output_type": "execute_result"
    }
   ],
   "source": [
    "df_click_rate_by_city.query('total_users>10 and click_rate_by_city>0.01')"
   ]
  },
  {
   "attachments": {},
   "cell_type": "markdown",
   "metadata": {},
   "source": [
    "- The above analysis shows that while the median number of users per city is 1, the maximum reaches 89.\n",
    "-  Given these statistics, a city having 10 users is significant enough to be noteworthy.\n",
    "- Among the 2,500 cities analyzed, 95 cities exhibit a conversion rate higher than 10 percent and also have a sufficient number of users. This suggests that certain cities are reliable indicators of higher conversion rates."
   ]
  },
  {
   "attachments": {},
   "cell_type": "markdown",
   "metadata": {},
   "source": [
    "Next lets look on viewability"
   ]
  },
  {
   "cell_type": "code",
   "execution_count": 60,
   "metadata": {},
   "outputs": [
    {
     "data": {
      "text/plain": [
       "(298, 29)"
      ]
     },
     "execution_count": 60,
     "metadata": {},
     "output_type": "execute_result"
    }
   ],
   "source": [
    "# we can see that for most cases viewability can be estimated\n",
    "raw_data_filtered.query('viewability==-1').shape"
   ]
  },
  {
   "cell_type": "code",
   "execution_count": 61,
   "metadata": {},
   "outputs": [
    {
     "data": {
      "text/plain": [
       "cookie_age_seconds    0.011158\n",
       "is_wifi              -0.069275\n",
       "viewability           0.128107\n",
       "session_depth        -0.124167\n",
       "bidded                     NaN\n",
       "bid                   0.066720\n",
       "won_bid                    NaN\n",
       "feedback_bid          0.091853\n",
       "conversion            1.000000\n",
       "Name: conversion, dtype: float64"
      ]
     },
     "execution_count": 61,
     "metadata": {},
     "output_type": "execute_result"
    }
   ],
   "source": [
    "raw_data_filtered.query('viewability>-1')[numeric_cols].corr()['conversion']"
   ]
  },
  {
   "attachments": {},
   "cell_type": "markdown",
   "metadata": {},
   "source": [
    "- we have low correlation between viewability and conversion rate\n",
    "- lets try binning"
   ]
  },
  {
   "cell_type": "code",
   "execution_count": 62,
   "metadata": {},
   "outputs": [
    {
     "name": "stderr",
     "output_type": "stream",
     "text": [
      "/var/folders/f8/0lsxmrg55_b9lhrx3v76q9x80000gn/T/ipykernel_63358/3174719509.py:4: SettingWithCopyWarning: \n",
      "A value is trying to be set on a copy of a slice from a DataFrame.\n",
      "Try using .loc[row_indexer,col_indexer] = value instead\n",
      "\n",
      "See the caveats in the documentation: https://pandas.pydata.org/pandas-docs/stable/user_guide/indexing.html#returning-a-view-versus-a-copy\n",
      "  raw_data_filtered_['viewability_bin'] = pd.cut(raw_data_filtered_['viewability'], bins=bins, labels=labels, include_lowest=True)\n"
     ]
    }
   ],
   "source": [
    "raw_data_filtered_ = raw_data_filtered.query('viewability>-1')\n",
    "labels = [0, 1, 2]  # low = 0, mid = 1, high = 2\n",
    "bins = [0, 33, 66, 100]\n",
    "raw_data_filtered_['viewability_bin'] = pd.cut(raw_data_filtered_['viewability'], bins=bins, labels=labels, include_lowest=True)"
   ]
  },
  {
   "cell_type": "code",
   "execution_count": 63,
   "metadata": {},
   "outputs": [
    {
     "data": {
      "text/plain": [
       "0.1328911155717005"
      ]
     },
     "execution_count": 63,
     "metadata": {},
     "output_type": "execute_result"
    }
   ],
   "source": [
    "raw_data_filtered_['viewability_bin'].astype(int).corr(raw_data_filtered_['conversion'])"
   ]
  },
  {
   "attachments": {},
   "cell_type": "markdown",
   "metadata": {},
   "source": [
    "No improvement, lets try another feature"
   ]
  },
  {
   "attachments": {},
   "cell_type": "markdown",
   "metadata": {},
   "source": [
    "lets look on user agent, it is a known format, lets extrat data from it ! \n"
   ]
  },
  {
   "cell_type": "code",
   "execution_count": 64,
   "metadata": {},
   "outputs": [],
   "source": [
    "features_df = raw_data_filtered['user_agent'].apply(analysis_utils.extract_features).apply(pd.Series)"
   ]
  },
  {
   "cell_type": "code",
   "execution_count": 65,
   "metadata": {},
   "outputs": [],
   "source": [
    "\n",
    "raw_data_filtered_ = pd.concat([raw_data_filtered, features_df[['browser_family','os_family']]], axis=1)"
   ]
  },
  {
   "cell_type": "code",
   "execution_count": 66,
   "metadata": {},
   "outputs": [
    {
     "data": {
      "text/html": [
       "<div>\n",
       "<style scoped>\n",
       "    .dataframe tbody tr th:only-of-type {\n",
       "        vertical-align: middle;\n",
       "    }\n",
       "\n",
       "    .dataframe tbody tr th {\n",
       "        vertical-align: top;\n",
       "    }\n",
       "\n",
       "    .dataframe thead th {\n",
       "        text-align: right;\n",
       "    }\n",
       "</style>\n",
       "<table border=\"1\" class=\"dataframe\">\n",
       "  <thead>\n",
       "    <tr style=\"text-align: right;\">\n",
       "      <th></th>\n",
       "      <th>click_rate_by_browser_family</th>\n",
       "      <th>total_users</th>\n",
       "    </tr>\n",
       "    <tr>\n",
       "      <th>browser_family</th>\n",
       "      <th></th>\n",
       "      <th></th>\n",
       "    </tr>\n",
       "  </thead>\n",
       "  <tbody>\n",
       "    <tr>\n",
       "      <th>Facebook</th>\n",
       "      <td>0.107364</td>\n",
       "      <td>1453</td>\n",
       "    </tr>\n",
       "    <tr>\n",
       "      <th>Samsung Internet</th>\n",
       "      <td>0.123529</td>\n",
       "      <td>170</td>\n",
       "    </tr>\n",
       "    <tr>\n",
       "      <th>Chrome Mobile WebView</th>\n",
       "      <td>0.182171</td>\n",
       "      <td>258</td>\n",
       "    </tr>\n",
       "    <tr>\n",
       "      <th>Chrome Mobile</th>\n",
       "      <td>0.226103</td>\n",
       "      <td>544</td>\n",
       "    </tr>\n",
       "  </tbody>\n",
       "</table>\n",
       "</div>"
      ],
      "text/plain": [
       "                       click_rate_by_browser_family  total_users\n",
       "browser_family                                                  \n",
       "Facebook                                   0.107364         1453\n",
       "Samsung Internet                           0.123529          170\n",
       "Chrome Mobile WebView                      0.182171          258\n",
       "Chrome Mobile                              0.226103          544"
      ]
     },
     "execution_count": 66,
     "metadata": {},
     "output_type": "execute_result"
    }
   ],
   "source": [
    "(\n",
    "    raw_data_filtered_\n",
    "    .groupby('browser_family')\n",
    "    .agg(\n",
    "    click_rate_by_browser_family = ('conversion','mean'),\n",
    "    total_users = ('user_id', 'count')\n",
    "    )\n",
    " .sort_values('click_rate_by_browser_family')\n",
    " .query('total_users>50 and click_rate_by_browser_family>0.1')\n",
    " )"
   ]
  },
  {
   "attachments": {},
   "cell_type": "markdown",
   "metadata": {},
   "source": [
    "When evaluating the data for user engagement, it becomes clear that using Chrome as a browser significantly boosts conversion rates. For instance, users browsing with Chrome are twice as likely to click on an advertisement compared to those using Facebook's app/web.\n",
    "\n",
    " This observation indicates that Chrome is a reliable indicator for higher engagement and might be strategically advantageous for targeting in advertising campaigns."
   ]
  },
  {
   "attachments": {},
   "cell_type": "markdown",
   "metadata": {},
   "source": [
    "lets do the same with OS:"
   ]
  },
  {
   "cell_type": "code",
   "execution_count": 67,
   "metadata": {},
   "outputs": [
    {
     "data": {
      "text/html": [
       "<div>\n",
       "<style scoped>\n",
       "    .dataframe tbody tr th:only-of-type {\n",
       "        vertical-align: middle;\n",
       "    }\n",
       "\n",
       "    .dataframe tbody tr th {\n",
       "        vertical-align: top;\n",
       "    }\n",
       "\n",
       "    .dataframe thead th {\n",
       "        text-align: right;\n",
       "    }\n",
       "</style>\n",
       "<table border=\"1\" class=\"dataframe\">\n",
       "  <thead>\n",
       "    <tr style=\"text-align: right;\">\n",
       "      <th></th>\n",
       "      <th>click_rate_by_os_family</th>\n",
       "      <th>total_users</th>\n",
       "    </tr>\n",
       "    <tr>\n",
       "      <th>os_family</th>\n",
       "      <th></th>\n",
       "      <th></th>\n",
       "    </tr>\n",
       "  </thead>\n",
       "  <tbody>\n",
       "    <tr>\n",
       "      <th>Linux</th>\n",
       "      <td>0.000000</td>\n",
       "      <td>35</td>\n",
       "    </tr>\n",
       "    <tr>\n",
       "      <th>Other</th>\n",
       "      <td>0.000000</td>\n",
       "      <td>1</td>\n",
       "    </tr>\n",
       "    <tr>\n",
       "      <th>Mac OS X</th>\n",
       "      <td>0.035757</td>\n",
       "      <td>839</td>\n",
       "    </tr>\n",
       "    <tr>\n",
       "      <th>Chrome OS</th>\n",
       "      <td>0.054054</td>\n",
       "      <td>74</td>\n",
       "    </tr>\n",
       "    <tr>\n",
       "      <th>Windows</th>\n",
       "      <td>0.055058</td>\n",
       "      <td>5358</td>\n",
       "    </tr>\n",
       "    <tr>\n",
       "      <th>iOS</th>\n",
       "      <td>0.082019</td>\n",
       "      <td>317</td>\n",
       "    </tr>\n",
       "    <tr>\n",
       "      <th>Android</th>\n",
       "      <td>0.146566</td>\n",
       "      <td>2388</td>\n",
       "    </tr>\n",
       "  </tbody>\n",
       "</table>\n",
       "</div>"
      ],
      "text/plain": [
       "           click_rate_by_os_family  total_users\n",
       "os_family                                      \n",
       "Linux                     0.000000           35\n",
       "Other                     0.000000            1\n",
       "Mac OS X                  0.035757          839\n",
       "Chrome OS                 0.054054           74\n",
       "Windows                   0.055058         5358\n",
       "iOS                       0.082019          317\n",
       "Android                   0.146566         2388"
      ]
     },
     "execution_count": 67,
     "metadata": {},
     "output_type": "execute_result"
    }
   ],
   "source": [
    "(\n",
    "    raw_data_filtered_\n",
    "    .groupby('os_family')\n",
    "    .agg(\n",
    "    click_rate_by_os_family = ('conversion','mean'),\n",
    "    total_users = ('user_id', 'count')\n",
    "    )\n",
    " .sort_values('click_rate_by_os_family')\n",
    " )"
   ]
  },
  {
   "attachments": {},
   "cell_type": "markdown",
   "metadata": {},
   "source": [
    "by the same argument we can say that os family is also a good indicator for the conversion rate.  Androind Users are 3 times more likely to click on an advertisement compared to those using Chrome OS."
   ]
  },
  {
   "attachments": {},
   "cell_type": "markdown",
   "metadata": {},
   "source": [
    "In summary, my approach would include focusing on several key features:\n",
    "\n",
    "- Domain: This could provide insights related to specific sites and their user engagement.\n",
    "- City and additional geographical details: Such features could highlight regional trends or preferences.\n",
    "- Time of day:  This factor is crucial for understanding peak user activities.\n",
    "- Device type: Further investigation into this and other related attributes may yield valuable information about user behavior.\n",
    "- Browser family and OS family: These could influence how users interact with ads.\n",
    "\n",
    "Given additional time, I would also explore the URL and ad slot, especially considering the occurrence of repeated bids for these elements. It's plausible to believe that the URL and ad slot could significantly impact conversion rates. For example, ad slots in highly visible locations or on popular websites are likely to perform better."
   ]
  },
  {
   "attachments": {},
   "cell_type": "markdown",
   "metadata": {},
   "source": [
    "# You’ve been asked to provide a way where we can guess (pre bid) the bid that will allow us to win X% of the time for every given url & ad slot . Given this dataset, how would you solve it?"
   ]
  },
  {
   "attachments": {},
   "cell_type": "markdown",
   "metadata": {},
   "source": [
    "- on what data should i look at?\n",
    "the bided data. \n",
    "\n",
    "- for each url and ad_slot, can we have two different bids? first and second bid?\n",
    "lets see:\n"
   ]
  },
  {
   "cell_type": "code",
   "execution_count": 68,
   "metadata": {},
   "outputs": [],
   "source": [
    "raw_data_filtered = (\n",
    "\n",
    "    raw_data\n",
    "    .query('bidded ==1')\n",
    ")"
   ]
  },
  {
   "cell_type": "code",
   "execution_count": 69,
   "metadata": {},
   "outputs": [
    {
     "data": {
      "text/html": [
       "<div>\n",
       "<style scoped>\n",
       "    .dataframe tbody tr th:only-of-type {\n",
       "        vertical-align: middle;\n",
       "    }\n",
       "\n",
       "    .dataframe tbody tr th {\n",
       "        vertical-align: top;\n",
       "    }\n",
       "\n",
       "    .dataframe thead th {\n",
       "        text-align: right;\n",
       "    }\n",
       "</style>\n",
       "<table border=\"1\" class=\"dataframe\">\n",
       "  <thead>\n",
       "    <tr style=\"text-align: right;\">\n",
       "      <th></th>\n",
       "      <th></th>\n",
       "      <th>num_of_unique_auction_type</th>\n",
       "      <th>num_of_unique_bid</th>\n",
       "    </tr>\n",
       "    <tr>\n",
       "      <th>url</th>\n",
       "      <th>ad_slot</th>\n",
       "      <th></th>\n",
       "      <th></th>\n",
       "    </tr>\n",
       "  </thead>\n",
       "  <tbody>\n",
       "    <tr>\n",
       "      <th rowspan=\"2\" valign=\"top\">01b823ba4ad38adba6e2c1298661030a</th>\n",
       "      <th>a05c0fe18824eaf96d954aeb8ad856d1</th>\n",
       "      <td>2</td>\n",
       "      <td>4</td>\n",
       "    </tr>\n",
       "    <tr>\n",
       "      <th>a6c4f795b6c97902cae215533c02afcd</th>\n",
       "      <td>2</td>\n",
       "      <td>2</td>\n",
       "    </tr>\n",
       "    <tr>\n",
       "      <th>0288365888a1f3ede661873c44903902</th>\n",
       "      <th>405f5f58a0578ba09101f8b5e9e7cf0f</th>\n",
       "      <td>2</td>\n",
       "      <td>4</td>\n",
       "    </tr>\n",
       "    <tr>\n",
       "      <th rowspan=\"2\" valign=\"top\">02edc7b9693f0c4651512a20f65d54fa</th>\n",
       "      <th>2768a027d13eec4d128851b9a09a5016</th>\n",
       "      <td>2</td>\n",
       "      <td>3</td>\n",
       "    </tr>\n",
       "    <tr>\n",
       "      <th>a05c0fe18824eaf96d954aeb8ad856d1</th>\n",
       "      <td>2</td>\n",
       "      <td>28</td>\n",
       "    </tr>\n",
       "    <tr>\n",
       "      <th>...</th>\n",
       "      <th>...</th>\n",
       "      <td>...</td>\n",
       "      <td>...</td>\n",
       "    </tr>\n",
       "    <tr>\n",
       "      <th rowspan=\"2\" valign=\"top\">f8682e384bd8054cf77aadddfd6456d6</th>\n",
       "      <th>297a745e12f2416f76d352d31eab1c4a</th>\n",
       "      <td>2</td>\n",
       "      <td>95</td>\n",
       "    </tr>\n",
       "    <tr>\n",
       "      <th>9ed6733fea7faff8e26ac454273656d7</th>\n",
       "      <td>2</td>\n",
       "      <td>9</td>\n",
       "    </tr>\n",
       "    <tr>\n",
       "      <th>f960e45d4a59cb46ceb98b4888d7ab6c</th>\n",
       "      <th>a6c4f795b6c97902cae215533c02afcd</th>\n",
       "      <td>2</td>\n",
       "      <td>9</td>\n",
       "    </tr>\n",
       "    <tr>\n",
       "      <th rowspan=\"2\" valign=\"top\">f9d5a52dd4f94c9f38003b0d743c7553</th>\n",
       "      <th>2768a027d13eec4d128851b9a09a5016</th>\n",
       "      <td>2</td>\n",
       "      <td>7</td>\n",
       "    </tr>\n",
       "    <tr>\n",
       "      <th>feb283bf191f006e9aaefb146607adc5</th>\n",
       "      <td>2</td>\n",
       "      <td>5</td>\n",
       "    </tr>\n",
       "  </tbody>\n",
       "</table>\n",
       "<p>283 rows × 2 columns</p>\n",
       "</div>"
      ],
      "text/plain": [
       "                                                                   num_of_unique_auction_type  \\\n",
       "url                              ad_slot                                                        \n",
       "01b823ba4ad38adba6e2c1298661030a a05c0fe18824eaf96d954aeb8ad856d1                           2   \n",
       "                                 a6c4f795b6c97902cae215533c02afcd                           2   \n",
       "0288365888a1f3ede661873c44903902 405f5f58a0578ba09101f8b5e9e7cf0f                           2   \n",
       "02edc7b9693f0c4651512a20f65d54fa 2768a027d13eec4d128851b9a09a5016                           2   \n",
       "                                 a05c0fe18824eaf96d954aeb8ad856d1                           2   \n",
       "...                                                                                       ...   \n",
       "f8682e384bd8054cf77aadddfd6456d6 297a745e12f2416f76d352d31eab1c4a                           2   \n",
       "                                 9ed6733fea7faff8e26ac454273656d7                           2   \n",
       "f960e45d4a59cb46ceb98b4888d7ab6c a6c4f795b6c97902cae215533c02afcd                           2   \n",
       "f9d5a52dd4f94c9f38003b0d743c7553 2768a027d13eec4d128851b9a09a5016                           2   \n",
       "                                 feb283bf191f006e9aaefb146607adc5                           2   \n",
       "\n",
       "                                                                   num_of_unique_bid  \n",
       "url                              ad_slot                                              \n",
       "01b823ba4ad38adba6e2c1298661030a a05c0fe18824eaf96d954aeb8ad856d1                  4  \n",
       "                                 a6c4f795b6c97902cae215533c02afcd                  2  \n",
       "0288365888a1f3ede661873c44903902 405f5f58a0578ba09101f8b5e9e7cf0f                  4  \n",
       "02edc7b9693f0c4651512a20f65d54fa 2768a027d13eec4d128851b9a09a5016                  3  \n",
       "                                 a05c0fe18824eaf96d954aeb8ad856d1                 28  \n",
       "...                                                                              ...  \n",
       "f8682e384bd8054cf77aadddfd6456d6 297a745e12f2416f76d352d31eab1c4a                 95  \n",
       "                                 9ed6733fea7faff8e26ac454273656d7                  9  \n",
       "f960e45d4a59cb46ceb98b4888d7ab6c a6c4f795b6c97902cae215533c02afcd                  9  \n",
       "f9d5a52dd4f94c9f38003b0d743c7553 2768a027d13eec4d128851b9a09a5016                  7  \n",
       "                                 feb283bf191f006e9aaefb146607adc5                  5  \n",
       "\n",
       "[283 rows x 2 columns]"
      ]
     },
     "execution_count": 69,
     "metadata": {},
     "output_type": "execute_result"
    }
   ],
   "source": [
    "data_on_bids_per_url_ad_slot = (\n",
    "    raw_data_filtered\n",
    "    .query('bidded ==1')\n",
    "    .groupby(['url', 'ad_slot'])\n",
    "    .agg(\n",
    "        num_of_unique_auction_type = ('auction_type', 'nunique')\n",
    "        ,\n",
    "        num_of_unique_bid = ('bid', 'nunique')\n",
    "        \n",
    "    )\n",
    "    \n",
    " \n",
    " )\n",
    "data_on_bids_per_url_ad_slot.query('num_of_unique_auction_type>1')"
   ]
  },
  {
   "attachments": {},
   "cell_type": "markdown",
   "metadata": {},
   "source": [
    "I observe that some ad slot+domain combinations receive bids in two distinct auction types. For simplicity, let's assume each has two auctions.\n",
    "\n",
    "To estimate the bid necessary to win X% of the time, we'll begin by separating the bids for each URL and ad slot according to whether they're for first or second auctions. This separation is crucial because the bidding dynamics differ significantly between auction types. In first-price auctions, where the highest bid wins and pays what they bid, bidders tend to be more conservative to avoid overpaying.\n",
    "\n",
    "Next, for a given URL and ad slot within a specific auction type, I would calculate the Xth quantile from the distribution of winning bids (not using the values we placed when we won, of course). This quantile should represent the bid amount that would win X% of the time, accounting for the unique bidding strategies typical of that auction type.\n",
    "\n",
    "The limitation here is that accurately determining the quantile requires a substantial amount of data to adequately represent the distribution of winning bids.\n"
   ]
  },
  {
   "attachments": {},
   "cell_type": "markdown",
   "metadata": {},
   "source": [
    "for ease of use lets take one url-ad slot with high count of bids that we bidded."
   ]
  },
  {
   "cell_type": "code",
   "execution_count": 70,
   "metadata": {},
   "outputs": [
    {
     "data": {
      "text/html": [
       "<div>\n",
       "<style scoped>\n",
       "    .dataframe tbody tr th:only-of-type {\n",
       "        vertical-align: middle;\n",
       "    }\n",
       "\n",
       "    .dataframe tbody tr th {\n",
       "        vertical-align: top;\n",
       "    }\n",
       "\n",
       "    .dataframe thead th {\n",
       "        text-align: right;\n",
       "    }\n",
       "</style>\n",
       "<table border=\"1\" class=\"dataframe\">\n",
       "  <thead>\n",
       "    <tr style=\"text-align: right;\">\n",
       "      <th></th>\n",
       "      <th></th>\n",
       "      <th>num_of_unique_auction_type</th>\n",
       "      <th>num_of_unique_bid</th>\n",
       "    </tr>\n",
       "    <tr>\n",
       "      <th>url</th>\n",
       "      <th>ad_slot</th>\n",
       "      <th></th>\n",
       "      <th></th>\n",
       "    </tr>\n",
       "  </thead>\n",
       "  <tbody>\n",
       "    <tr>\n",
       "      <th>347787d250deda7e64c8ec85688431cd</th>\n",
       "      <th>cf566bfb3813d744397494d415f4800d</th>\n",
       "      <td>1</td>\n",
       "      <td>1340</td>\n",
       "    </tr>\n",
       "  </tbody>\n",
       "</table>\n",
       "</div>"
      ],
      "text/plain": [
       "                                                                   num_of_unique_auction_type  \\\n",
       "url                              ad_slot                                                        \n",
       "347787d250deda7e64c8ec85688431cd cf566bfb3813d744397494d415f4800d                           1   \n",
       "\n",
       "                                                                   num_of_unique_bid  \n",
       "url                              ad_slot                                              \n",
       "347787d250deda7e64c8ec85688431cd cf566bfb3813d744397494d415f4800d               1340  "
      ]
     },
     "execution_count": 70,
     "metadata": {},
     "output_type": "execute_result"
    }
   ],
   "source": [
    "data_on_bids_per_url_ad_slot.sort_values('num_of_unique_bid').iloc[[-1]]"
   ]
  },
  {
   "cell_type": "code",
   "execution_count": 71,
   "metadata": {},
   "outputs": [],
   "source": [
    "data_single_url_ad_slot = (raw_data_filtered\n",
    "    .query('url ==\"347787d250deda7e64c8ec85688431cd\" and ad_slot ==  \"cf566bfb3813d744397494d415f4800d\"')\n",
    "    )"
   ]
  },
  {
   "cell_type": "code",
   "execution_count": 72,
   "metadata": {},
   "outputs": [
    {
     "data": {
      "text/html": [
       "<div>\n",
       "<style scoped>\n",
       "    .dataframe tbody tr th:only-of-type {\n",
       "        vertical-align: middle;\n",
       "    }\n",
       "\n",
       "    .dataframe tbody tr th {\n",
       "        vertical-align: top;\n",
       "    }\n",
       "\n",
       "    .dataframe thead th {\n",
       "        text-align: right;\n",
       "    }\n",
       "</style>\n",
       "<table border=\"1\" class=\"dataframe\">\n",
       "  <thead>\n",
       "    <tr style=\"text-align: right;\">\n",
       "      <th></th>\n",
       "      <th>time</th>\n",
       "      <th>user_id</th>\n",
       "      <th>domain</th>\n",
       "      <th>url</th>\n",
       "      <th>ad_slot</th>\n",
       "      <th>country</th>\n",
       "      <th>postal_code</th>\n",
       "      <th>state_code</th>\n",
       "      <th>city</th>\n",
       "      <th>user_agent</th>\n",
       "      <th>cookie_age_seconds</th>\n",
       "      <th>detected_language</th>\n",
       "      <th>device_type</th>\n",
       "      <th>device_brand</th>\n",
       "      <th>device_model</th>\n",
       "      <th>screen_orientation</th>\n",
       "      <th>publisher_properties</th>\n",
       "      <th>is_wifi</th>\n",
       "      <th>viewability</th>\n",
       "      <th>session_depth</th>\n",
       "      <th>auction_type</th>\n",
       "      <th>bidded</th>\n",
       "      <th>bid</th>\n",
       "      <th>won_bid</th>\n",
       "      <th>feedback_bid</th>\n",
       "      <th>conversion</th>\n",
       "      <th>datatype_postal_code</th>\n",
       "      <th>country_state_city_code</th>\n",
       "    </tr>\n",
       "  </thead>\n",
       "  <tbody>\n",
       "    <tr>\n",
       "      <th>16</th>\n",
       "      <td>2021-02-01 03:34:13.833261 UTC</td>\n",
       "      <td>fc1f2d6c-4748-4340-ab43-072979cc7474</td>\n",
       "      <td>6b7afebe1382bbae9ae594d2e590a349</td>\n",
       "      <td>347787d250deda7e64c8ec85688431cd</td>\n",
       "      <td>cf566bfb3813d744397494d415f4800d</td>\n",
       "      <td>US</td>\n",
       "      <td>78414</td>\n",
       "      <td>TX</td>\n",
       "      <td>Corpus Christi</td>\n",
       "      <td>Mozilla/5.0 (Linux; Android 10; LM-G820) Apple...</td>\n",
       "      <td>51840000</td>\n",
       "      <td>en</td>\n",
       "      <td>HIGHEND_PHONE</td>\n",
       "      <td>lg</td>\n",
       "      <td>lm-g820v</td>\n",
       "      <td>UNKNOWN_ORIENTATION</td>\n",
       "      <td>a841cf8c2487af452679e60a8941348d</td>\n",
       "      <td>1</td>\n",
       "      <td>87</td>\n",
       "      <td>-1</td>\n",
       "      <td>FIRST_PRICE</td>\n",
       "      <td>1</td>\n",
       "      <td>0.785979</td>\n",
       "      <td>1.0</td>\n",
       "      <td>0.44</td>\n",
       "      <td>0.0</td>\n",
       "      <td>numeric</td>\n",
       "      <td>US_TX_Corpus Christi</td>\n",
       "    </tr>\n",
       "    <tr>\n",
       "      <th>19</th>\n",
       "      <td>2021-02-01 13:52:39.086701 UTC</td>\n",
       "      <td>aafe54af-499c-49dd-85b4-319d558f2fba</td>\n",
       "      <td>6b7afebe1382bbae9ae594d2e590a349</td>\n",
       "      <td>347787d250deda7e64c8ec85688431cd</td>\n",
       "      <td>cf566bfb3813d744397494d415f4800d</td>\n",
       "      <td>US</td>\n",
       "      <td>34684</td>\n",
       "      <td>FL</td>\n",
       "      <td>Palm Harbor</td>\n",
       "      <td>Mozilla/5.0 (Linux; Android 10; SM-N960U Build...</td>\n",
       "      <td>0</td>\n",
       "      <td>en</td>\n",
       "      <td>HIGHEND_PHONE</td>\n",
       "      <td>samsung</td>\n",
       "      <td>sm-n960u</td>\n",
       "      <td>UNKNOWN_ORIENTATION</td>\n",
       "      <td>a841cf8c2487af452679e60a8941348d</td>\n",
       "      <td>1</td>\n",
       "      <td>85</td>\n",
       "      <td>-1</td>\n",
       "      <td>FIRST_PRICE</td>\n",
       "      <td>1</td>\n",
       "      <td>0.475619</td>\n",
       "      <td>0.0</td>\n",
       "      <td>1.12</td>\n",
       "      <td>0.0</td>\n",
       "      <td>numeric</td>\n",
       "      <td>US_FL_Palm Harbor</td>\n",
       "    </tr>\n",
       "    <tr>\n",
       "      <th>139</th>\n",
       "      <td>2021-02-01 23:00:19.818773 UTC</td>\n",
       "      <td>4f8fa686-0738-4519-9e01-dbbe7119fb3a</td>\n",
       "      <td>6b7afebe1382bbae9ae594d2e590a349</td>\n",
       "      <td>347787d250deda7e64c8ec85688431cd</td>\n",
       "      <td>cf566bfb3813d744397494d415f4800d</td>\n",
       "      <td>US</td>\n",
       "      <td>45223</td>\n",
       "      <td>OH</td>\n",
       "      <td>Cincinnati</td>\n",
       "      <td>Mozilla/5.0 (iPhone; CPU iPhone OS 14_3 like M...</td>\n",
       "      <td>0</td>\n",
       "      <td>en</td>\n",
       "      <td>HIGHEND_PHONE</td>\n",
       "      <td>apple</td>\n",
       "      <td>iphone</td>\n",
       "      <td>UNKNOWN_ORIENTATION</td>\n",
       "      <td>a841cf8c2487af452679e60a8941348d</td>\n",
       "      <td>1</td>\n",
       "      <td>94</td>\n",
       "      <td>-1</td>\n",
       "      <td>FIRST_PRICE</td>\n",
       "      <td>1</td>\n",
       "      <td>0.559799</td>\n",
       "      <td>1.0</td>\n",
       "      <td>0.25</td>\n",
       "      <td>0.0</td>\n",
       "      <td>numeric</td>\n",
       "      <td>US_OH_Cincinnati</td>\n",
       "    </tr>\n",
       "    <tr>\n",
       "      <th>705</th>\n",
       "      <td>2021-02-01 21:31:28.634253 UTC</td>\n",
       "      <td>fd18846f-2331-4e1c-951f-edc0050730d4</td>\n",
       "      <td>6b7afebe1382bbae9ae594d2e590a349</td>\n",
       "      <td>347787d250deda7e64c8ec85688431cd</td>\n",
       "      <td>cf566bfb3813d744397494d415f4800d</td>\n",
       "      <td>US</td>\n",
       "      <td>98022</td>\n",
       "      <td>WA</td>\n",
       "      <td>Kent</td>\n",
       "      <td>Mozilla/5.0 (iPhone; CPU iPhone OS 14_3 like M...</td>\n",
       "      <td>259200</td>\n",
       "      <td>en</td>\n",
       "      <td>HIGHEND_PHONE</td>\n",
       "      <td>apple</td>\n",
       "      <td>iphone</td>\n",
       "      <td>UNKNOWN_ORIENTATION</td>\n",
       "      <td>a841cf8c2487af452679e60a8941348d</td>\n",
       "      <td>1</td>\n",
       "      <td>85</td>\n",
       "      <td>1</td>\n",
       "      <td>FIRST_PRICE</td>\n",
       "      <td>1</td>\n",
       "      <td>0.246900</td>\n",
       "      <td>0.0</td>\n",
       "      <td>0.41</td>\n",
       "      <td>0.0</td>\n",
       "      <td>numeric</td>\n",
       "      <td>US_WA_Kent</td>\n",
       "    </tr>\n",
       "    <tr>\n",
       "      <th>779</th>\n",
       "      <td>2021-02-01 14:48:32.565647 UTC</td>\n",
       "      <td>61f991d5-4bb6-4f1a-b600-81beea3b7fe6</td>\n",
       "      <td>6b7afebe1382bbae9ae594d2e590a349</td>\n",
       "      <td>347787d250deda7e64c8ec85688431cd</td>\n",
       "      <td>cf566bfb3813d744397494d415f4800d</td>\n",
       "      <td>US</td>\n",
       "      <td>48187.0</td>\n",
       "      <td>MI</td>\n",
       "      <td>Canton</td>\n",
       "      <td>Mozilla/5.0 (Linux; Android 11; SM-G970U Build...</td>\n",
       "      <td>1987200</td>\n",
       "      <td>en</td>\n",
       "      <td>HIGHEND_PHONE</td>\n",
       "      <td>samsung</td>\n",
       "      <td>sm-g970u</td>\n",
       "      <td>UNKNOWN_ORIENTATION</td>\n",
       "      <td>a841cf8c2487af452679e60a8941348d</td>\n",
       "      <td>0</td>\n",
       "      <td>88</td>\n",
       "      <td>1</td>\n",
       "      <td>FIRST_PRICE</td>\n",
       "      <td>1</td>\n",
       "      <td>0.718263</td>\n",
       "      <td>0.0</td>\n",
       "      <td>1.57</td>\n",
       "      <td>0.0</td>\n",
       "      <td>NaN</td>\n",
       "      <td>US_MI_Canton</td>\n",
       "    </tr>\n",
       "    <tr>\n",
       "      <th>...</th>\n",
       "      <td>...</td>\n",
       "      <td>...</td>\n",
       "      <td>...</td>\n",
       "      <td>...</td>\n",
       "      <td>...</td>\n",
       "      <td>...</td>\n",
       "      <td>...</td>\n",
       "      <td>...</td>\n",
       "      <td>...</td>\n",
       "      <td>...</td>\n",
       "      <td>...</td>\n",
       "      <td>...</td>\n",
       "      <td>...</td>\n",
       "      <td>...</td>\n",
       "      <td>...</td>\n",
       "      <td>...</td>\n",
       "      <td>...</td>\n",
       "      <td>...</td>\n",
       "      <td>...</td>\n",
       "      <td>...</td>\n",
       "      <td>...</td>\n",
       "      <td>...</td>\n",
       "      <td>...</td>\n",
       "      <td>...</td>\n",
       "      <td>...</td>\n",
       "      <td>...</td>\n",
       "      <td>...</td>\n",
       "      <td>...</td>\n",
       "    </tr>\n",
       "    <tr>\n",
       "      <th>248771</th>\n",
       "      <td>2021-02-01 03:44:50.356936 UTC</td>\n",
       "      <td>ca17d879-2316-4b80-850f-d759460789a1</td>\n",
       "      <td>6b7afebe1382bbae9ae594d2e590a349</td>\n",
       "      <td>347787d250deda7e64c8ec85688431cd</td>\n",
       "      <td>cf566bfb3813d744397494d415f4800d</td>\n",
       "      <td>US</td>\n",
       "      <td>60406</td>\n",
       "      <td>IL</td>\n",
       "      <td>Blue Island</td>\n",
       "      <td>Mozilla/5.0 (Linux; Android 8.0.0; SM-G935T) A...</td>\n",
       "      <td>0</td>\n",
       "      <td>en</td>\n",
       "      <td>HIGHEND_PHONE</td>\n",
       "      <td>samsung</td>\n",
       "      <td>sm-g935t</td>\n",
       "      <td>UNKNOWN_ORIENTATION</td>\n",
       "      <td>a841cf8c2487af452679e60a8941348d</td>\n",
       "      <td>1</td>\n",
       "      <td>71</td>\n",
       "      <td>-1</td>\n",
       "      <td>FIRST_PRICE</td>\n",
       "      <td>1</td>\n",
       "      <td>0.427512</td>\n",
       "      <td>1.0</td>\n",
       "      <td>0.32</td>\n",
       "      <td>1.0</td>\n",
       "      <td>numeric</td>\n",
       "      <td>US_IL_Blue Island</td>\n",
       "    </tr>\n",
       "    <tr>\n",
       "      <th>248774</th>\n",
       "      <td>2021-02-01 18:47:41.007446 UTC</td>\n",
       "      <td>8569aa41-0eb4-4898-adaa-667c2544bbab</td>\n",
       "      <td>6b7afebe1382bbae9ae594d2e590a349</td>\n",
       "      <td>347787d250deda7e64c8ec85688431cd</td>\n",
       "      <td>cf566bfb3813d744397494d415f4800d</td>\n",
       "      <td>US</td>\n",
       "      <td>30809</td>\n",
       "      <td>GA</td>\n",
       "      <td>Augusta</td>\n",
       "      <td>Mozilla/5.0 (iPhone; CPU iPhone OS 14_3 like M...</td>\n",
       "      <td>0</td>\n",
       "      <td>en</td>\n",
       "      <td>HIGHEND_PHONE</td>\n",
       "      <td>apple</td>\n",
       "      <td>iphone</td>\n",
       "      <td>UNKNOWN_ORIENTATION</td>\n",
       "      <td>a841cf8c2487af452679e60a8941348d</td>\n",
       "      <td>1</td>\n",
       "      <td>96</td>\n",
       "      <td>-1</td>\n",
       "      <td>FIRST_PRICE</td>\n",
       "      <td>1</td>\n",
       "      <td>0.630000</td>\n",
       "      <td>1.0</td>\n",
       "      <td>0.50</td>\n",
       "      <td>0.0</td>\n",
       "      <td>numeric</td>\n",
       "      <td>US_GA_Augusta</td>\n",
       "    </tr>\n",
       "    <tr>\n",
       "      <th>249083</th>\n",
       "      <td>2021-02-01 08:39:51.103727 UTC</td>\n",
       "      <td>19a6fe31-033f-4d14-87e0-a4f83317e2b2</td>\n",
       "      <td>6b7afebe1382bbae9ae594d2e590a349</td>\n",
       "      <td>347787d250deda7e64c8ec85688431cd</td>\n",
       "      <td>cf566bfb3813d744397494d415f4800d</td>\n",
       "      <td>US</td>\n",
       "      <td>95661</td>\n",
       "      <td>CA</td>\n",
       "      <td>Roseville</td>\n",
       "      <td>Mozilla/5.0 (iPhone; CPU iPhone OS 14_3 like M...</td>\n",
       "      <td>0</td>\n",
       "      <td>en</td>\n",
       "      <td>HIGHEND_PHONE</td>\n",
       "      <td>apple</td>\n",
       "      <td>iphone</td>\n",
       "      <td>UNKNOWN_ORIENTATION</td>\n",
       "      <td>a841cf8c2487af452679e60a8941348d</td>\n",
       "      <td>1</td>\n",
       "      <td>-1</td>\n",
       "      <td>-1</td>\n",
       "      <td>FIRST_PRICE</td>\n",
       "      <td>1</td>\n",
       "      <td>0.240104</td>\n",
       "      <td>0.0</td>\n",
       "      <td>0.33</td>\n",
       "      <td>0.0</td>\n",
       "      <td>numeric</td>\n",
       "      <td>US_CA_Roseville</td>\n",
       "    </tr>\n",
       "    <tr>\n",
       "      <th>249162</th>\n",
       "      <td>2021-02-01 00:19:23.494842 UTC</td>\n",
       "      <td>1bf9e880-05ee-476c-818c-769cf18ed640</td>\n",
       "      <td>6b7afebe1382bbae9ae594d2e590a349</td>\n",
       "      <td>347787d250deda7e64c8ec85688431cd</td>\n",
       "      <td>cf566bfb3813d744397494d415f4800d</td>\n",
       "      <td>US</td>\n",
       "      <td>&lt;NA&gt;</td>\n",
       "      <td>NaN</td>\n",
       "      <td>NaN</td>\n",
       "      <td>Mozilla/5.0 (iPhone; CPU iPhone OS 14_2 like M...</td>\n",
       "      <td>0</td>\n",
       "      <td>en</td>\n",
       "      <td>HIGHEND_PHONE</td>\n",
       "      <td>apple</td>\n",
       "      <td>iphone</td>\n",
       "      <td>UNKNOWN_ORIENTATION</td>\n",
       "      <td>a841cf8c2487af452679e60a8941348d</td>\n",
       "      <td>1</td>\n",
       "      <td>97</td>\n",
       "      <td>-1</td>\n",
       "      <td>FIRST_PRICE</td>\n",
       "      <td>1</td>\n",
       "      <td>0.168373</td>\n",
       "      <td>0.0</td>\n",
       "      <td>0.37</td>\n",
       "      <td>0.0</td>\n",
       "      <td>NaN</td>\n",
       "      <td>NaN</td>\n",
       "    </tr>\n",
       "    <tr>\n",
       "      <th>249172</th>\n",
       "      <td>2021-02-01 23:15:25.32127 UTC</td>\n",
       "      <td>728efd8d-711a-4e39-b30a-4d9df2f8fc25</td>\n",
       "      <td>6b7afebe1382bbae9ae594d2e590a349</td>\n",
       "      <td>347787d250deda7e64c8ec85688431cd</td>\n",
       "      <td>cf566bfb3813d744397494d415f4800d</td>\n",
       "      <td>US</td>\n",
       "      <td>30318.0</td>\n",
       "      <td>GA</td>\n",
       "      <td>Atlanta</td>\n",
       "      <td>Mozilla/5.0 (iPhone; CPU iPhone OS 14_3 like M...</td>\n",
       "      <td>0</td>\n",
       "      <td>en</td>\n",
       "      <td>HIGHEND_PHONE</td>\n",
       "      <td>apple</td>\n",
       "      <td>iphone</td>\n",
       "      <td>UNKNOWN_ORIENTATION</td>\n",
       "      <td>a841cf8c2487af452679e60a8941348d</td>\n",
       "      <td>1</td>\n",
       "      <td>97</td>\n",
       "      <td>-1</td>\n",
       "      <td>FIRST_PRICE</td>\n",
       "      <td>1</td>\n",
       "      <td>0.234042</td>\n",
       "      <td>0.0</td>\n",
       "      <td>0.30</td>\n",
       "      <td>0.0</td>\n",
       "      <td>NaN</td>\n",
       "      <td>US_GA_Atlanta</td>\n",
       "    </tr>\n",
       "  </tbody>\n",
       "</table>\n",
       "<p>1509 rows × 28 columns</p>\n",
       "</div>"
      ],
      "text/plain": [
       "                                  time                               user_id  \\\n",
       "16      2021-02-01 03:34:13.833261 UTC  fc1f2d6c-4748-4340-ab43-072979cc7474   \n",
       "19      2021-02-01 13:52:39.086701 UTC  aafe54af-499c-49dd-85b4-319d558f2fba   \n",
       "139     2021-02-01 23:00:19.818773 UTC  4f8fa686-0738-4519-9e01-dbbe7119fb3a   \n",
       "705     2021-02-01 21:31:28.634253 UTC  fd18846f-2331-4e1c-951f-edc0050730d4   \n",
       "779     2021-02-01 14:48:32.565647 UTC  61f991d5-4bb6-4f1a-b600-81beea3b7fe6   \n",
       "...                                ...                                   ...   \n",
       "248771  2021-02-01 03:44:50.356936 UTC  ca17d879-2316-4b80-850f-d759460789a1   \n",
       "248774  2021-02-01 18:47:41.007446 UTC  8569aa41-0eb4-4898-adaa-667c2544bbab   \n",
       "249083  2021-02-01 08:39:51.103727 UTC  19a6fe31-033f-4d14-87e0-a4f83317e2b2   \n",
       "249162  2021-02-01 00:19:23.494842 UTC  1bf9e880-05ee-476c-818c-769cf18ed640   \n",
       "249172   2021-02-01 23:15:25.32127 UTC  728efd8d-711a-4e39-b30a-4d9df2f8fc25   \n",
       "\n",
       "                                  domain                               url  \\\n",
       "16      6b7afebe1382bbae9ae594d2e590a349  347787d250deda7e64c8ec85688431cd   \n",
       "19      6b7afebe1382bbae9ae594d2e590a349  347787d250deda7e64c8ec85688431cd   \n",
       "139     6b7afebe1382bbae9ae594d2e590a349  347787d250deda7e64c8ec85688431cd   \n",
       "705     6b7afebe1382bbae9ae594d2e590a349  347787d250deda7e64c8ec85688431cd   \n",
       "779     6b7afebe1382bbae9ae594d2e590a349  347787d250deda7e64c8ec85688431cd   \n",
       "...                                  ...                               ...   \n",
       "248771  6b7afebe1382bbae9ae594d2e590a349  347787d250deda7e64c8ec85688431cd   \n",
       "248774  6b7afebe1382bbae9ae594d2e590a349  347787d250deda7e64c8ec85688431cd   \n",
       "249083  6b7afebe1382bbae9ae594d2e590a349  347787d250deda7e64c8ec85688431cd   \n",
       "249162  6b7afebe1382bbae9ae594d2e590a349  347787d250deda7e64c8ec85688431cd   \n",
       "249172  6b7afebe1382bbae9ae594d2e590a349  347787d250deda7e64c8ec85688431cd   \n",
       "\n",
       "                                 ad_slot country postal_code state_code  \\\n",
       "16      cf566bfb3813d744397494d415f4800d      US       78414         TX   \n",
       "19      cf566bfb3813d744397494d415f4800d      US       34684         FL   \n",
       "139     cf566bfb3813d744397494d415f4800d      US       45223         OH   \n",
       "705     cf566bfb3813d744397494d415f4800d      US       98022         WA   \n",
       "779     cf566bfb3813d744397494d415f4800d      US     48187.0         MI   \n",
       "...                                  ...     ...         ...        ...   \n",
       "248771  cf566bfb3813d744397494d415f4800d      US       60406         IL   \n",
       "248774  cf566bfb3813d744397494d415f4800d      US       30809         GA   \n",
       "249083  cf566bfb3813d744397494d415f4800d      US       95661         CA   \n",
       "249162  cf566bfb3813d744397494d415f4800d      US        <NA>        NaN   \n",
       "249172  cf566bfb3813d744397494d415f4800d      US     30318.0         GA   \n",
       "\n",
       "                  city                                         user_agent  \\\n",
       "16      Corpus Christi  Mozilla/5.0 (Linux; Android 10; LM-G820) Apple...   \n",
       "19         Palm Harbor  Mozilla/5.0 (Linux; Android 10; SM-N960U Build...   \n",
       "139         Cincinnati  Mozilla/5.0 (iPhone; CPU iPhone OS 14_3 like M...   \n",
       "705               Kent  Mozilla/5.0 (iPhone; CPU iPhone OS 14_3 like M...   \n",
       "779             Canton  Mozilla/5.0 (Linux; Android 11; SM-G970U Build...   \n",
       "...                ...                                                ...   \n",
       "248771     Blue Island  Mozilla/5.0 (Linux; Android 8.0.0; SM-G935T) A...   \n",
       "248774         Augusta  Mozilla/5.0 (iPhone; CPU iPhone OS 14_3 like M...   \n",
       "249083       Roseville  Mozilla/5.0 (iPhone; CPU iPhone OS 14_3 like M...   \n",
       "249162             NaN  Mozilla/5.0 (iPhone; CPU iPhone OS 14_2 like M...   \n",
       "249172         Atlanta  Mozilla/5.0 (iPhone; CPU iPhone OS 14_3 like M...   \n",
       "\n",
       "        cookie_age_seconds detected_language    device_type device_brand  \\\n",
       "16                51840000                en  HIGHEND_PHONE           lg   \n",
       "19                       0                en  HIGHEND_PHONE      samsung   \n",
       "139                      0                en  HIGHEND_PHONE        apple   \n",
       "705                 259200                en  HIGHEND_PHONE        apple   \n",
       "779                1987200                en  HIGHEND_PHONE      samsung   \n",
       "...                    ...               ...            ...          ...   \n",
       "248771                   0                en  HIGHEND_PHONE      samsung   \n",
       "248774                   0                en  HIGHEND_PHONE        apple   \n",
       "249083                   0                en  HIGHEND_PHONE        apple   \n",
       "249162                   0                en  HIGHEND_PHONE        apple   \n",
       "249172                   0                en  HIGHEND_PHONE        apple   \n",
       "\n",
       "       device_model   screen_orientation              publisher_properties  \\\n",
       "16         lm-g820v  UNKNOWN_ORIENTATION  a841cf8c2487af452679e60a8941348d   \n",
       "19         sm-n960u  UNKNOWN_ORIENTATION  a841cf8c2487af452679e60a8941348d   \n",
       "139          iphone  UNKNOWN_ORIENTATION  a841cf8c2487af452679e60a8941348d   \n",
       "705          iphone  UNKNOWN_ORIENTATION  a841cf8c2487af452679e60a8941348d   \n",
       "779        sm-g970u  UNKNOWN_ORIENTATION  a841cf8c2487af452679e60a8941348d   \n",
       "...             ...                  ...                               ...   \n",
       "248771     sm-g935t  UNKNOWN_ORIENTATION  a841cf8c2487af452679e60a8941348d   \n",
       "248774       iphone  UNKNOWN_ORIENTATION  a841cf8c2487af452679e60a8941348d   \n",
       "249083       iphone  UNKNOWN_ORIENTATION  a841cf8c2487af452679e60a8941348d   \n",
       "249162       iphone  UNKNOWN_ORIENTATION  a841cf8c2487af452679e60a8941348d   \n",
       "249172       iphone  UNKNOWN_ORIENTATION  a841cf8c2487af452679e60a8941348d   \n",
       "\n",
       "        is_wifi  viewability  session_depth auction_type  bidded       bid  \\\n",
       "16            1           87             -1  FIRST_PRICE       1  0.785979   \n",
       "19            1           85             -1  FIRST_PRICE       1  0.475619   \n",
       "139           1           94             -1  FIRST_PRICE       1  0.559799   \n",
       "705           1           85              1  FIRST_PRICE       1  0.246900   \n",
       "779           0           88              1  FIRST_PRICE       1  0.718263   \n",
       "...         ...          ...            ...          ...     ...       ...   \n",
       "248771        1           71             -1  FIRST_PRICE       1  0.427512   \n",
       "248774        1           96             -1  FIRST_PRICE       1  0.630000   \n",
       "249083        1           -1             -1  FIRST_PRICE       1  0.240104   \n",
       "249162        1           97             -1  FIRST_PRICE       1  0.168373   \n",
       "249172        1           97             -1  FIRST_PRICE       1  0.234042   \n",
       "\n",
       "        won_bid  feedback_bid  conversion datatype_postal_code  \\\n",
       "16          1.0          0.44         0.0              numeric   \n",
       "19          0.0          1.12         0.0              numeric   \n",
       "139         1.0          0.25         0.0              numeric   \n",
       "705         0.0          0.41         0.0              numeric   \n",
       "779         0.0          1.57         0.0                  NaN   \n",
       "...         ...           ...         ...                  ...   \n",
       "248771      1.0          0.32         1.0              numeric   \n",
       "248774      1.0          0.50         0.0              numeric   \n",
       "249083      0.0          0.33         0.0              numeric   \n",
       "249162      0.0          0.37         0.0                  NaN   \n",
       "249172      0.0          0.30         0.0                  NaN   \n",
       "\n",
       "       country_state_city_code  \n",
       "16        US_TX_Corpus Christi  \n",
       "19           US_FL_Palm Harbor  \n",
       "139           US_OH_Cincinnati  \n",
       "705                 US_WA_Kent  \n",
       "779               US_MI_Canton  \n",
       "...                        ...  \n",
       "248771       US_IL_Blue Island  \n",
       "248774           US_GA_Augusta  \n",
       "249083         US_CA_Roseville  \n",
       "249162                     NaN  \n",
       "249172           US_GA_Atlanta  \n",
       "\n",
       "[1509 rows x 28 columns]"
      ]
     },
     "execution_count": 72,
     "metadata": {},
     "output_type": "execute_result"
    }
   ],
   "source": [
    "data_single_url_ad_slot"
   ]
  },
  {
   "attachments": {},
   "cell_type": "markdown",
   "metadata": {},
   "source": [
    "Now lets get the 75 percentile of the winning bids for each url and ad_slot that we choose:"
   ]
  },
  {
   "cell_type": "code",
   "execution_count": 73,
   "metadata": {},
   "outputs": [
    {
     "name": "stderr",
     "output_type": "stream",
     "text": [
      "/var/folders/f8/0lsxmrg55_b9lhrx3v76q9x80000gn/T/ipykernel_63358/557818228.py:4: FutureWarning: Series.__getitem__ treating keys as positions is deprecated. In a future version, integer keys will always be treated as labels (consistent with DataFrame behavior). To access a value by position, use `ser.iloc[pos]`\n",
      "  data_single_url_ad_slot\n"
     ]
    },
    {
     "data": {
      "text/plain": [
       "0.89"
      ]
     },
     "execution_count": 73,
     "metadata": {},
     "output_type": "execute_result"
    }
   ],
   "source": [
    "X = 75\n",
    "\n",
    "q_bid = (\n",
    "    data_single_url_ad_slot\n",
    "    [['feedback_bid']]\n",
    "    .quantile(X / 100.0)[0]\n",
    "    \n",
    " \n",
    " )\n",
    "q_bid"
   ]
  },
  {
   "attachments": {},
   "cell_type": "markdown",
   "metadata": {},
   "source": [
    "we should put 2.5 CPM to win 75% of the time."
   ]
  },
  {
   "attachments": {},
   "cell_type": "markdown",
   "metadata": {},
   "source": [
    "lets see if our method make sense?"
   ]
  },
  {
   "cell_type": "code",
   "execution_count": 78,
   "metadata": {},
   "outputs": [
    {
     "data": {
      "text/plain": [
       "0.2491716368455931"
      ]
     },
     "execution_count": 78,
     "metadata": {},
     "output_type": "execute_result"
    }
   ],
   "source": [
    "(\n",
    "    data_single_url_ad_slot\n",
    "    .assign(precentile_wins = lambda df: df['feedback_bid']>q_bid)\n",
    "    ['precentile_wins'].mean()\n",
    "    )"
   ]
  },
  {
   "attachments": {},
   "cell_type": "markdown",
   "metadata": {},
   "source": [
    "we can see that only 25% of the the bids won values are higher the the value that we got for the 75 percentile, As expected! \n",
    "\n",
    "Yet the better way to examine it is to separate the data to \"train\" and \"validation\".\n",
    "lets try it, but it may not work due to lack of data\n"
   ]
  },
  {
   "cell_type": "code",
   "execution_count": 79,
   "metadata": {},
   "outputs": [
    {
     "name": "stderr",
     "output_type": "stream",
     "text": [
      "/var/folders/f8/0lsxmrg55_b9lhrx3v76q9x80000gn/T/ipykernel_63358/1150111885.py:3: FutureWarning: Series.__getitem__ treating keys as positions is deprecated. In a future version, integer keys will always be treated as labels (consistent with DataFrame behavior). To access a value by position, use `ser.iloc[pos]`\n",
      "  train_df\n"
     ]
    },
    {
     "data": {
      "text/plain": [
       "0.87"
      ]
     },
     "execution_count": 79,
     "metadata": {},
     "output_type": "execute_result"
    }
   ],
   "source": [
    "\n",
    "train_df, val_df = train_test_split(data_single_url_ad_slot, test_size=0.5, random_state=42)  \n",
    "q_bid_train = (\n",
    "    train_df\n",
    "    [['feedback_bid']]\n",
    "    .quantile(X / 100.0)[0]\n",
    "    \n",
    " \n",
    " )\n",
    "q_bid_train"
   ]
  },
  {
   "attachments": {},
   "cell_type": "markdown",
   "metadata": {},
   "source": [
    "now lets test it on the validation set:\n"
   ]
  },
  {
   "cell_type": "code",
   "execution_count": 80,
   "metadata": {},
   "outputs": [
    {
     "data": {
      "text/plain": [
       "0.26225165562913905"
      ]
     },
     "execution_count": 80,
     "metadata": {},
     "output_type": "execute_result"
    }
   ],
   "source": [
    "(\n",
    "    val_df\n",
    "    .assign(precentile_wins = lambda df: df['feedback_bid']>q_bid_train)\n",
    "    ['precentile_wins'].mean()\n",
    "    )"
   ]
  },
  {
   "attachments": {},
   "cell_type": "markdown",
   "metadata": {},
   "source": [
    "- Yes! , only 26% of the bids exceed our offer. We expected 25 %.\n",
    "\n",
    "- We might need additional time to validate this further. The best approach would be to test it on a different day, but on the same weekday. Additionally, we'll need to assess our accuracy across a range of quantiles."
   ]
  }
 ],
 "metadata": {
  "kernelspec": {
   "display_name": "arpeely_venv",
   "language": "python",
   "name": "python3"
  },
  "language_info": {
   "codemirror_mode": {
    "name": "ipython",
    "version": 3
   },
   "file_extension": ".py",
   "mimetype": "text/x-python",
   "name": "python",
   "nbconvert_exporter": "python",
   "pygments_lexer": "ipython3",
   "version": "3.11.1"
  },
  "orig_nbformat": 4
 },
 "nbformat": 4,
 "nbformat_minor": 2
}
